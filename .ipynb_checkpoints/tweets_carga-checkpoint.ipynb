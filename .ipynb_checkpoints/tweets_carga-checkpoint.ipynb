{
 "cells": [
  {
   "cell_type": "code",
   "execution_count": null,
   "id": "8638f304",
   "metadata": {},
   "outputs": [],
   "source": [
    "import requests\n",
    "import pandas as pd\n",
    "import os\n",
    "import json\n",
    "import tweepy\n",
    "import configparser\n",
    "import emoji\n",
    "import re\n",
    "import nltk\n",
    "from nltk.tokenize import RegexpTokenizer # para tokenizar\n",
    "import unicodedata\n",
    "import json\n",
    "# To set your environment variables in your terminal run the following line:\n",
    "# export 'BEARER_TOKEN'='<your_bearer_token>'\n",
    "\n",
    "\n",
    "\n",
    "bearer_token='AAAAAAAAAAAAAAAAAAAAAM5BdAEAAAAAtrKzlZHhMsZ7go1v6zAaoqTaFGo%3DvAFpXJ9txE8r34HBF7iL4MoTPqSP1yRh3L51hz9HuXWK4YN1AN'\n",
    "consumer_key='4x2FUb0lcnH89mMoPobeHHLEh'\n",
    "consumer_secret='idm5ExJNCdocaANssfKEgRAph6RKYXblJv5FxSiytya5PkSxvA'\n",
    "access_token='1968014677-2Kg1j75XW7g6HnlKhMSNWHVN1MTNm9U6jxDNFF6'\n",
    "access_token_secret='O1RYa2SpI1OymaayxcvDWbE4w1uyIf3PYXEGOQ1Q7qXzw'\n"
   ]
  },
  {
   "cell_type": "code",
   "execution_count": 2,
   "id": "e0269570",
   "metadata": {},
   "outputs": [],
   "source": [
    "auth= tweepy.OAuthHandler(consumer_key, consumer_secret)\n",
    "auth.set_access_token(access_token, access_token_secret)"
   ]
  },
  {
   "cell_type": "code",
   "execution_count": 3,
   "id": "9814d351",
   "metadata": {},
   "outputs": [],
   "source": [
    "\n",
    "# Guardamos en una variable\n",
    "api = tweepy.API(auth)\n",
    "api= tweepy.API(auth,wait_on_rate_limit=True)"
   ]
  },
  {
   "cell_type": "code",
   "execution_count": 4,
   "id": "ff5716a9",
   "metadata": {},
   "outputs": [],
   "source": [
    "def convert(s):\n",
    "    r=''\n",
    "    for c in s:\n",
    "        try:\n",
    "            c.encode('latin-1')\n",
    "        except UnicodeEncodeError:\n",
    "            c = unicodedata.normalize('NFKD', c).encode('latin-1', 'ignore').decode('latin-1')\n",
    "        r += c\n",
    "    return r\n",
    "\n",
    "def limpiar_token(texto):\n",
    "    # Se convierte todo el texto a minúsculas\n",
    "    nuevo_texto = texto.lower()\n",
    "    #sacar link\n",
    "    nuevo_texto = re.sub(f'\\S*[://]\\S*','', nuevo_texto)\n",
    "    #sacar @\n",
    "    \n",
    "    nuevo_texto = re.sub(f'@\\S+','', nuevo_texto)\n",
    "    nuevo_texto = re.sub(f'rt\\s@\\S+','', nuevo_texto)\n",
    "    # sacar #\n",
    "    #nuevo_texto = re.sub(f'#\\S+','', nuevo_texto)\n",
    "    #a,b = 'áéíóúüñ','aeiouun'\n",
    "    #trans = str.maketrans(a,b)\n",
    "    \n",
    "    #nuevo_texto = nuevo_texto.translate(trans)\n",
    "    # Eliminación de páginas web (palabras que empiezan por \"http\")\n",
    "    nuevo_texto = re.sub('S+', ' ', nuevo_texto)\n",
    "    # Eliminación de signos de puntuación\n",
    "    regex = '[\\\\“\\\\!\\\\\"\\\\$\\\\%\\\\&\\\\\\'\\\\(\\\\)\\\\*\\\\+\\\\,\\\\-\\\\.\\\\/\\\\:\\\\;\\\\<\\\\=\\\\>\\\\?\\\\@\\\\[\\\\\\\\\\\\]\\\\^_\\\\`\\\\{\\\\|\\\\}\\\\~]'\n",
    "    nuevo_texto = re.sub(regex , ' ', nuevo_texto)\n",
    "    # Eliminación de espacios en blanco múltiples\n",
    "    nuevo_texto = re.sub(\"\\\\s+\", ' ', nuevo_texto)\n",
    "    nuevo_texto = convert(nuevo_texto)\n",
    "    \n",
    "    # Tokenización por palabras individuales\n",
    "    \n",
    "    return nuevo_texto\n",
    "\n"
   ]
  },
  {
   "cell_type": "code",
   "execution_count": 5,
   "id": "48bb2ec0",
   "metadata": {},
   "outputs": [],
   "source": [
    "\n",
    "    \n",
    "def emoticones(text):\n",
    "    emo = emoji.demojize(text, delimiters=(\" :\", \": \"))\n",
    "    return emo\n",
    "\n",
    "def tokenizador(txt):\n",
    "    tokenizer = RegexpTokenizer(\"\\w+\")\n",
    "    txt_Token_pal = tokenizer.tokenize(txt)\n",
    "    return txt_Token_pal\n",
    "\n",
    "def cleanfecha(fecha):\n",
    "    fecha = tweet.created_at\n",
    "    fecha = f'{str(fecha)[0:4]}{str(fecha)[5:7]}{str(fecha)[8:10]}'\n",
    "    return fecha"
   ]
  },
  {
   "cell_type": "code",
   "execution_count": null,
   "id": "70f7cff6",
   "metadata": {
    "scrolled": true
   },
   "outputs": [
    {
     "name": "stdout",
     "output_type": "stream",
     "text": [
      "{'fecha': '20220621', 'texto': 'como le explico al mismísimo elon musk que no me gusta el queso', 'usuario': 'iriitini'}\n"
     ]
    },
    {
     "name": "stderr",
     "output_type": "stream",
     "text": [
      "C:\\Users\\matia\\AppData\\Local\\Temp\\ipykernel_13540\\3099373608.py:32: FutureWarning: The frame.append method is deprecated and will be removed from pandas in a future version. Use pandas.concat instead.\n",
      "  df = df.append(data, ignore_index=True)\n"
     ]
    },
    {
     "name": "stdout",
     "output_type": "stream",
     "text": [
      "{'fecha': '20220621', 'texto': 'las vegas aprueba expandir el túnel de elon musk por toda la ciudad pero no lo pagarán los contribuyentes', 'usuario': 'vicentealmerich'}\n"
     ]
    },
    {
     "name": "stderr",
     "output_type": "stream",
     "text": [
      "C:\\Users\\matia\\AppData\\Local\\Temp\\ipykernel_13540\\3099373608.py:32: FutureWarning: The frame.append method is deprecated and will be removed from pandas in a future version. Use pandas.concat instead.\n",
      "  df = df.append(data, ignore_index=True)\n"
     ]
    },
    {
     "name": "stdout",
     "output_type": "stream",
     "text": [
      "{'fecha': '20220621', 'texto': 'elon musk le respondió a euric santi en el 2020 y a vladimir vargas en el 2022 cuál otro dominicano a logrado que elon le responda un tuit', 'usuario': 'marchemosverde'}\n"
     ]
    },
    {
     "name": "stderr",
     "output_type": "stream",
     "text": [
      "C:\\Users\\matia\\AppData\\Local\\Temp\\ipykernel_13540\\3099373608.py:32: FutureWarning: The frame.append method is deprecated and will be removed from pandas in a future version. Use pandas.concat instead.\n",
      "  df = df.append(data, ignore_index=True)\n"
     ]
    },
    {
     "name": "stdout",
     "output_type": "stream",
     "text": [
      "{'fecha': '20220621', 'texto': 'hija transgénero de elon musk cambia su nombre para terminar relación con su padre según tmz', 'usuario': 'sonpresente'}\n"
     ]
    },
    {
     "name": "stderr",
     "output_type": "stream",
     "text": [
      "C:\\Users\\matia\\AppData\\Local\\Temp\\ipykernel_13540\\3099373608.py:32: FutureWarning: The frame.append method is deprecated and will be removed from pandas in a future version. Use pandas.concat instead.\n",
      "  df = df.append(data, ignore_index=True)\n"
     ]
    },
    {
     "name": "stdout",
     "output_type": "stream",
     "text": [
      "{'fecha': '20220621', 'texto': 'caraca elon musk sabotando o menino everaldo', 'usuario': 'nic0oliveira'}\n"
     ]
    },
    {
     "name": "stderr",
     "output_type": "stream",
     "text": [
      "C:\\Users\\matia\\AppData\\Local\\Temp\\ipykernel_13540\\3099373608.py:32: FutureWarning: The frame.append method is deprecated and will be removed from pandas in a future version. Use pandas.concat instead.\n",
      "  df = df.append(data, ignore_index=True)\n"
     ]
    },
    {
     "name": "stdout",
     "output_type": "stream",
     "text": [
      "{'fecha': '20220621', 'texto': 'elon musk se eu te encontro na rua', 'usuario': 'eucarloshrq'}\n"
     ]
    },
    {
     "name": "stderr",
     "output_type": "stream",
     "text": [
      "C:\\Users\\matia\\AppData\\Local\\Temp\\ipykernel_13540\\3099373608.py:32: FutureWarning: The frame.append method is deprecated and will be removed from pandas in a future version. Use pandas.concat instead.\n",
      "  df = df.append(data, ignore_index=True)\n"
     ]
    },
    {
     "name": "stdout",
     "output_type": "stream",
     "text": [
      "{'fecha': '20220621', 'texto': 'de verdad me da demasiada intriga saber quien le maneja las redes sociales a elon musk', 'usuario': 'andrea marcano'}\n"
     ]
    },
    {
     "name": "stderr",
     "output_type": "stream",
     "text": [
      "C:\\Users\\matia\\AppData\\Local\\Temp\\ipykernel_13540\\3099373608.py:32: FutureWarning: The frame.append method is deprecated and will be removed from pandas in a future version. Use pandas.concat instead.\n",
      "  df = df.append(data, ignore_index=True)\n"
     ]
    },
    {
     "name": "stdout",
     "output_type": "stream",
     "text": [
      "{'fecha': '20220621', 'texto': 'yaningnoviecita deskansa en paz elon musk no te merece bv', 'usuario': 'yoshipija'}\n"
     ]
    },
    {
     "name": "stderr",
     "output_type": "stream",
     "text": [
      "C:\\Users\\matia\\AppData\\Local\\Temp\\ipykernel_13540\\3099373608.py:32: FutureWarning: The frame.append method is deprecated and will be removed from pandas in a future version. Use pandas.concat instead.\n",
      "  df = df.append(data, ignore_index=True)\n"
     ]
    },
    {
     "name": "stdout",
     "output_type": "stream",
     "text": [
      "{'fecha': '20220621', 'texto': 'sorprendentemente elon musk no ha tuiteado sobre su hija solicita cambiar su nombre para no llevar el apellido de su padre musk tampoco ha llamado nazi a xi jinping por los confinamientos en china aunque sí lo hizo con justina trudeau', 'usuario': 'pablopardo1'}\n"
     ]
    },
    {
     "name": "stderr",
     "output_type": "stream",
     "text": [
      "C:\\Users\\matia\\AppData\\Local\\Temp\\ipykernel_13540\\3099373608.py:32: FutureWarning: The frame.append method is deprecated and will be removed from pandas in a future version. Use pandas.concat instead.\n",
      "  df = df.append(data, ignore_index=True)\n"
     ]
    },
    {
     "name": "stdout",
     "output_type": "stream",
     "text": [
      "{'fecha': '20220621', 'texto': 'el hyperloop de elon musk es posible ¿qué tanto lo queremos', 'usuario': 'exomedios'}\n"
     ]
    },
    {
     "name": "stderr",
     "output_type": "stream",
     "text": [
      "C:\\Users\\matia\\AppData\\Local\\Temp\\ipykernel_13540\\3099373608.py:32: FutureWarning: The frame.append method is deprecated and will be removed from pandas in a future version. Use pandas.concat instead.\n",
      "  df = df.append(data, ignore_index=True)\n"
     ]
    },
    {
     "name": "stdout",
     "output_type": "stream",
     "text": [
      "{'fecha': '20220621', 'texto': 'alguno con el contacto de elon musk para pedirle que por favor me cierre el twitter a la esa que gracias', 'usuario': 'ablazedmind'}\n"
     ]
    },
    {
     "name": "stderr",
     "output_type": "stream",
     "text": [
      "C:\\Users\\matia\\AppData\\Local\\Temp\\ipykernel_13540\\3099373608.py:32: FutureWarning: The frame.append method is deprecated and will be removed from pandas in a future version. Use pandas.concat instead.\n",
      "  df = df.append(data, ignore_index=True)\n"
     ]
    },
    {
     "name": "stdout",
     "output_type": "stream",
     "text": [
      "{'fecha': '20220621', 'texto': 'es elon musk', 'usuario': 'magical0800'}\n"
     ]
    },
    {
     "name": "stderr",
     "output_type": "stream",
     "text": [
      "C:\\Users\\matia\\AppData\\Local\\Temp\\ipykernel_13540\\3099373608.py:32: FutureWarning: The frame.append method is deprecated and will be removed from pandas in a future version. Use pandas.concat instead.\n",
      "  df = df.append(data, ignore_index=True)\n"
     ]
    },
    {
     "name": "stdout",
     "output_type": "stream",
     "text": [
      "{'fecha': '20220621', 'texto': 'las vegas aprueba expandir el túnel de elon musk por toda la ciudad pero no lo pagarán los contribuyentes', 'usuario': 'gizmodoes'}\n"
     ]
    },
    {
     "name": "stderr",
     "output_type": "stream",
     "text": [
      "C:\\Users\\matia\\AppData\\Local\\Temp\\ipykernel_13540\\3099373608.py:32: FutureWarning: The frame.append method is deprecated and will be removed from pandas in a future version. Use pandas.concat instead.\n",
      "  df = df.append(data, ignore_index=True)\n"
     ]
    },
    {
     "name": "stdout",
     "output_type": "stream",
     "text": [
      "{'fecha': '20220621', 'texto': 'quizás en twitter hasta que lo compre elon musk agurrrrrrrrrrrr', 'usuario': 'beckskawai'}\n"
     ]
    },
    {
     "name": "stderr",
     "output_type": "stream",
     "text": [
      "C:\\Users\\matia\\AppData\\Local\\Temp\\ipykernel_13540\\3099373608.py:32: FutureWarning: The frame.append method is deprecated and will be removed from pandas in a future version. Use pandas.concat instead.\n",
      "  df = df.append(data, ignore_index=True)\n"
     ]
    },
    {
     "name": "stdout",
     "output_type": "stream",
     "text": [
      "{'fecha': '20220621', 'texto': 'esto lo de ibo llanos y quiere comprarlo elon musk yo flipo', 'usuario': 'pedodimono'}\n"
     ]
    },
    {
     "name": "stderr",
     "output_type": "stream",
     "text": [
      "C:\\Users\\matia\\AppData\\Local\\Temp\\ipykernel_13540\\3099373608.py:32: FutureWarning: The frame.append method is deprecated and will be removed from pandas in a future version. Use pandas.concat instead.\n",
      "  df = df.append(data, ignore_index=True)\n"
     ]
    },
    {
     "name": "stdout",
     "output_type": "stream",
     "text": [
      "{'fecha': '20220621', 'texto': 'las vegas aprueba expandir el túnel de elon musk por toda la ciudad pero no lo pagarán los contribuyentes', 'usuario': 'iphone13vzla'}\n"
     ]
    },
    {
     "name": "stderr",
     "output_type": "stream",
     "text": [
      "C:\\Users\\matia\\AppData\\Local\\Temp\\ipykernel_13540\\3099373608.py:32: FutureWarning: The frame.append method is deprecated and will be removed from pandas in a future version. Use pandas.concat instead.\n",
      "  df = df.append(data, ignore_index=True)\n"
     ]
    },
    {
     "name": "stdout",
     "output_type": "stream",
     "text": [
      "{'fecha': '20220621', 'texto': 'el hyperloop de elon musk es posible ¿qué tanto lo queremos', 'usuario': 'hiperenlazados'}\n"
     ]
    },
    {
     "name": "stderr",
     "output_type": "stream",
     "text": [
      "C:\\Users\\matia\\AppData\\Local\\Temp\\ipykernel_13540\\3099373608.py:32: FutureWarning: The frame.append method is deprecated and will be removed from pandas in a future version. Use pandas.concat instead.\n",
      "  df = df.append(data, ignore_index=True)\n"
     ]
    },
    {
     "name": "stdout",
     "output_type": "stream",
     "text": [
      "{'fecha': '20220621', 'texto': 'elon the dogefather elon es un empresario fundador del gigante productor de coches eléctricos tesla cofundador de paypal spacex hyperloop solarcity the boring company neuralink y openai', 'usuario': 'lalocripto'}\n"
     ]
    },
    {
     "name": "stderr",
     "output_type": "stream",
     "text": [
      "C:\\Users\\matia\\AppData\\Local\\Temp\\ipykernel_13540\\3099373608.py:32: FutureWarning: The frame.append method is deprecated and will be removed from pandas in a future version. Use pandas.concat instead.\n",
      "  df = df.append(data, ignore_index=True)\n"
     ]
    },
    {
     "name": "stdout",
     "output_type": "stream",
     "text": [
      "{'fecha': '20220621', 'texto': 'cómo suelen decir a veces lo que más odias te toca en tu propia familia por eso es importante tolerar y aceptar ningún tipo de amor es mejor que otro', 'usuario': 'rolandojvivas'}\n"
     ]
    },
    {
     "name": "stderr",
     "output_type": "stream",
     "text": [
      "C:\\Users\\matia\\AppData\\Local\\Temp\\ipykernel_13540\\3099373608.py:32: FutureWarning: The frame.append method is deprecated and will be removed from pandas in a future version. Use pandas.concat instead.\n",
      "  df = df.append(data, ignore_index=True)\n"
     ]
    },
    {
     "name": "stdout",
     "output_type": "stream",
     "text": [
      "{'fecha': '20220621', 'texto': 'forma número cuatro ser elon musk', 'usuario': 'vgl0'}\n"
     ]
    },
    {
     "name": "stderr",
     "output_type": "stream",
     "text": [
      "C:\\Users\\matia\\AppData\\Local\\Temp\\ipykernel_13540\\3099373608.py:32: FutureWarning: The frame.append method is deprecated and will be removed from pandas in a future version. Use pandas.concat instead.\n",
      "  df = df.append(data, ignore_index=True)\n"
     ]
    },
    {
     "name": "stdout",
     "output_type": "stream",
     "text": [
      "{'fecha': '20220621', 'texto': 'influencer llaman hoy en dia a cualquier cosa influencer elon musk albert einsten nicolas tesla personas que con su pensar y actuar cambian al mundo', 'usuario': 'dssurferreteria'}\n"
     ]
    },
    {
     "name": "stderr",
     "output_type": "stream",
     "text": [
      "C:\\Users\\matia\\AppData\\Local\\Temp\\ipykernel_13540\\3099373608.py:32: FutureWarning: The frame.append method is deprecated and will be removed from pandas in a future version. Use pandas.concat instead.\n",
      "  df = df.append(data, ignore_index=True)\n"
     ]
    },
    {
     "name": "stdout",
     "output_type": "stream",
     "text": [
      "{'fecha': '20220621', 'texto': 'uno ve a elon musk entablando diálogos o respondiendo a preguntas o criticas a virtualmente cualquier persona basado únicamente en la relevancia del argumento sin pedir credenciales muchos políticos no lo hacen', 'usuario': 'murodepiedra'}\n"
     ]
    },
    {
     "name": "stderr",
     "output_type": "stream",
     "text": [
      "C:\\Users\\matia\\AppData\\Local\\Temp\\ipykernel_13540\\3099373608.py:32: FutureWarning: The frame.append method is deprecated and will be removed from pandas in a future version. Use pandas.concat instead.\n",
      "  df = df.append(data, ignore_index=True)\n"
     ]
    },
    {
     "name": "stdout",
     "output_type": "stream",
     "text": [
      "{'fecha': '20220621', 'texto': '#felizlunes yo pienso que es posible para las personas ordinarias ser extraordinarias elon musk', 'usuario': 'lfinanciera1'}\n"
     ]
    },
    {
     "name": "stderr",
     "output_type": "stream",
     "text": [
      "C:\\Users\\matia\\AppData\\Local\\Temp\\ipykernel_13540\\3099373608.py:32: FutureWarning: The frame.append method is deprecated and will be removed from pandas in a future version. Use pandas.concat instead.\n",
      "  df = df.append(data, ignore_index=True)\n"
     ]
    },
    {
     "name": "stdout",
     "output_type": "stream",
     "text": [
      "{'fecha': '20220621', 'texto': '¿por qué insisten en colocarse el adjetivo de afrodescendiente por su color de piel los afrodescendientes son los hijos nacidos de emigrantes africanos pero no tendría que ver con color los marroquíes son africanos y no son negros los argelinos también elon musk es africano', 'usuario': 'nilootro'}\n"
     ]
    },
    {
     "name": "stderr",
     "output_type": "stream",
     "text": [
      "C:\\Users\\matia\\AppData\\Local\\Temp\\ipykernel_13540\\3099373608.py:32: FutureWarning: The frame.append method is deprecated and will be removed from pandas in a future version. Use pandas.concat instead.\n",
      "  df = df.append(data, ignore_index=True)\n"
     ]
    },
    {
     "name": "stdout",
     "output_type": "stream",
     "text": [
      "{'fecha': '20220621', 'texto': 'hija transgénero de elon musk xavier musk solicita cambiar su no deseo estar asociado con mi padre biológico a través de', 'usuario': 'elimparcialcom'}\n"
     ]
    },
    {
     "name": "stderr",
     "output_type": "stream",
     "text": [
      "C:\\Users\\matia\\AppData\\Local\\Temp\\ipykernel_13540\\3099373608.py:32: FutureWarning: The frame.append method is deprecated and will be removed from pandas in a future version. Use pandas.concat instead.\n",
      "  df = df.append(data, ignore_index=True)\n"
     ]
    },
    {
     "name": "stdout",
     "output_type": "stream",
     "text": [
      "{'fecha': '20220621', 'texto': 'el hyperloop de elon musk es posible ¿qué tanto lo queremos', 'usuario': 'losarticulistas'}\n"
     ]
    },
    {
     "name": "stderr",
     "output_type": "stream",
     "text": [
      "C:\\Users\\matia\\AppData\\Local\\Temp\\ipykernel_13540\\3099373608.py:32: FutureWarning: The frame.append method is deprecated and will be removed from pandas in a future version. Use pandas.concat instead.\n",
      "  df = df.append(data, ignore_index=True)\n"
     ]
    },
    {
     "name": "stdout",
     "output_type": "stream",
     "text": [
      "{'fecha': '20220621', 'texto': 'spacex despide a empleados por críticas a elon musk', 'usuario': 'informativoet'}\n"
     ]
    },
    {
     "name": "stderr",
     "output_type": "stream",
     "text": [
      "C:\\Users\\matia\\AppData\\Local\\Temp\\ipykernel_13540\\3099373608.py:32: FutureWarning: The frame.append method is deprecated and will be removed from pandas in a future version. Use pandas.concat instead.\n",
      "  df = df.append(data, ignore_index=True)\n"
     ]
    },
    {
     "name": "stdout",
     "output_type": "stream",
     "text": [
      "{'fecha': '20220621', 'texto': 'la hija de elon musk cambia de nombre y apunta a su no quiero estar relacionada con él', 'usuario': 'pagina12'}\n"
     ]
    },
    {
     "name": "stderr",
     "output_type": "stream",
     "text": [
      "C:\\Users\\matia\\AppData\\Local\\Temp\\ipykernel_13540\\3099373608.py:32: FutureWarning: The frame.append method is deprecated and will be removed from pandas in a future version. Use pandas.concat instead.\n",
      "  df = df.append(data, ignore_index=True)\n"
     ]
    },
    {
     "name": "stdout",
     "output_type": "stream",
     "text": [
      "{'fecha': '20220621', 'texto': 'el hyperloop de elon musk es posible ¿qué tanto lo queremos', 'usuario': 'multigaceta'}\n"
     ]
    },
    {
     "name": "stderr",
     "output_type": "stream",
     "text": [
      "C:\\Users\\matia\\AppData\\Local\\Temp\\ipykernel_13540\\3099373608.py:32: FutureWarning: The frame.append method is deprecated and will be removed from pandas in a future version. Use pandas.concat instead.\n",
      "  df = df.append(data, ignore_index=True)\n"
     ]
    },
    {
     "name": "stdout",
     "output_type": "stream",
     "text": [
      "{'fecha': '20220621', 'texto': 'que una de las hijas de elon musk haya salido del clóset como una mujer trans en simplemente lo más gracioso q ví en mi vida', 'usuario': 'gerardmilf'}\n"
     ]
    },
    {
     "name": "stderr",
     "output_type": "stream",
     "text": [
      "C:\\Users\\matia\\AppData\\Local\\Temp\\ipykernel_13540\\3099373608.py:32: FutureWarning: The frame.append method is deprecated and will be removed from pandas in a future version. Use pandas.concat instead.\n",
      "  df = df.append(data, ignore_index=True)\n"
     ]
    },
    {
     "name": "stdout",
     "output_type": "stream",
     "text": [
      "{'fecha': '20220621', 'texto': '#dogecoin se dispara en torno al 9 después de que #elonmusk dijera que seguirá apoyando la #criptodivisa', 'usuario': 'cripto media'}\n"
     ]
    },
    {
     "name": "stderr",
     "output_type": "stream",
     "text": [
      "C:\\Users\\matia\\AppData\\Local\\Temp\\ipykernel_13540\\3099373608.py:32: FutureWarning: The frame.append method is deprecated and will be removed from pandas in a future version. Use pandas.concat instead.\n",
      "  df = df.append(data, ignore_index=True)\n"
     ]
    },
    {
     "name": "stdout",
     "output_type": "stream",
     "text": [
      "{'fecha': '20220621', 'texto': '¿me veré mal si le respondo a elon musk cual es mi queso favorito el quesobadon jajajaja', 'usuario': 'litzia'}\n"
     ]
    },
    {
     "name": "stderr",
     "output_type": "stream",
     "text": [
      "C:\\Users\\matia\\AppData\\Local\\Temp\\ipykernel_13540\\3099373608.py:32: FutureWarning: The frame.append method is deprecated and will be removed from pandas in a future version. Use pandas.concat instead.\n",
      "  df = df.append(data, ignore_index=True)\n"
     ]
    },
    {
     "name": "stdout",
     "output_type": "stream",
     "text": [
      "{'fecha': '20220621', 'texto': 'hija transgénero de elon musk cambia su nombre', 'usuario': 'pulso mx'}\n"
     ]
    },
    {
     "name": "stderr",
     "output_type": "stream",
     "text": [
      "C:\\Users\\matia\\AppData\\Local\\Temp\\ipykernel_13540\\3099373608.py:32: FutureWarning: The frame.append method is deprecated and will be removed from pandas in a future version. Use pandas.concat instead.\n",
      "  df = df.append(data, ignore_index=True)\n"
     ]
    },
    {
     "name": "stdout",
     "output_type": "stream",
     "text": [
      "{'fecha': '20220621', 'texto': 'jajjjajajajajjajajajajajajjajajah elon musk debe estar babeando por comprarte tus dos pinches empresas jajajajajjajajajajjajajajaja', 'usuario': 'lagongoracami'}\n"
     ]
    },
    {
     "name": "stderr",
     "output_type": "stream",
     "text": [
      "C:\\Users\\matia\\AppData\\Local\\Temp\\ipykernel_13540\\3099373608.py:32: FutureWarning: The frame.append method is deprecated and will be removed from pandas in a future version. Use pandas.concat instead.\n",
      "  df = df.append(data, ignore_index=True)\n"
     ]
    },
    {
     "name": "stdout",
     "output_type": "stream",
     "text": [
      "{'fecha': '20220621', 'texto': 'pienso que elon musk no apoyara a trump pero si votara republicano despues de decir q no dara su voto a los democratas pienso q su apoyo sera para el gobernador de la florida desantis aunque el gobernador no ha dado indicios de querer ser candidato presidencial tiene apoyo', 'usuario': 'mrspider202'}\n"
     ]
    },
    {
     "name": "stderr",
     "output_type": "stream",
     "text": [
      "C:\\Users\\matia\\AppData\\Local\\Temp\\ipykernel_13540\\3099373608.py:32: FutureWarning: The frame.append method is deprecated and will be removed from pandas in a future version. Use pandas.concat instead.\n",
      "  df = df.append(data, ignore_index=True)\n"
     ]
    },
    {
     "name": "stdout",
     "output_type": "stream",
     "text": [
      "{'fecha': '20220621', 'texto': 'el hyperloop de elon musk es posible ¿qué tanto lo queremos', 'usuario': 'teactualizas'}\n"
     ]
    },
    {
     "name": "stderr",
     "output_type": "stream",
     "text": [
      "C:\\Users\\matia\\AppData\\Local\\Temp\\ipykernel_13540\\3099373608.py:32: FutureWarning: The frame.append method is deprecated and will be removed from pandas in a future version. Use pandas.concat instead.\n",
      "  df = df.append(data, ignore_index=True)\n"
     ]
    },
    {
     "name": "stdout",
     "output_type": "stream",
     "text": [
      "{'fecha': '20220621', 'texto': 'elon musk echó a ciertos empleados por censurar opiniones abiertamente de derechas hasta incluso lo reconocían claro la cuenta de trump no creo que haya echado a alguien por estar en contra de su opinión eso es estúpido', 'usuario': 'tomasmazzarella'}\n"
     ]
    },
    {
     "name": "stderr",
     "output_type": "stream",
     "text": [
      "C:\\Users\\matia\\AppData\\Local\\Temp\\ipykernel_13540\\3099373608.py:32: FutureWarning: The frame.append method is deprecated and will be removed from pandas in a future version. Use pandas.concat instead.\n",
      "  df = df.append(data, ignore_index=True)\n"
     ]
    },
    {
     "name": "stdout",
     "output_type": "stream",
     "text": [
      "{'fecha': '20220621', 'texto': 'jajaja elon musk chupapijas el hombre es en definitiva irremplazable seguí intentándolo igual', 'usuario': 'marcosbbaldo'}\n"
     ]
    },
    {
     "name": "stderr",
     "output_type": "stream",
     "text": [
      "C:\\Users\\matia\\AppData\\Local\\Temp\\ipykernel_13540\\3099373608.py:32: FutureWarning: The frame.append method is deprecated and will be removed from pandas in a future version. Use pandas.concat instead.\n",
      "  df = df.append(data, ignore_index=True)\n"
     ]
    },
    {
     "name": "stdout",
     "output_type": "stream",
     "text": [
      "{'fecha': '20220621', 'texto': 'hasta que no salga un anuncio de elon musk enfadado no paro', 'usuario': 'marcremastered'}\n"
     ]
    },
    {
     "name": "stderr",
     "output_type": "stream",
     "text": [
      "C:\\Users\\matia\\AppData\\Local\\Temp\\ipykernel_13540\\3099373608.py:32: FutureWarning: The frame.append method is deprecated and will be removed from pandas in a future version. Use pandas.concat instead.\n",
      "  df = df.append(data, ignore_index=True)\n"
     ]
    },
    {
     "name": "stdout",
     "output_type": "stream",
     "text": [
      "{'fecha': '20220621', 'texto': 'con usted están haciendo pruebas piloto porque elon musk no permite que lo sigan', 'usuario': 'socifono'}\n"
     ]
    },
    {
     "name": "stderr",
     "output_type": "stream",
     "text": [
      "C:\\Users\\matia\\AppData\\Local\\Temp\\ipykernel_13540\\3099373608.py:32: FutureWarning: The frame.append method is deprecated and will be removed from pandas in a future version. Use pandas.concat instead.\n",
      "  df = df.append(data, ignore_index=True)\n"
     ]
    },
    {
     "name": "stdout",
     "output_type": "stream",
     "text": [
      "{'fecha': '20220621', 'texto': 'tomara que hackeiem e apareca live do elon musk vendendo bitcoin', 'usuario': 'idlikecoffee1'}\n"
     ]
    },
    {
     "name": "stderr",
     "output_type": "stream",
     "text": [
      "C:\\Users\\matia\\AppData\\Local\\Temp\\ipykernel_13540\\3099373608.py:32: FutureWarning: The frame.append method is deprecated and will be removed from pandas in a future version. Use pandas.concat instead.\n",
      "  df = df.append(data, ignore_index=True)\n"
     ]
    },
    {
     "name": "stdout",
     "output_type": "stream",
     "text": [
      "{'fecha': '20220621', 'texto': 'sus temores resultaron ser creíbles ya que la gerencia de spacex terminó despidiendo al menos a cinco empleados #spacex #noticias #elonmusk', 'usuario': 'darlinxpro'}\n"
     ]
    },
    {
     "name": "stderr",
     "output_type": "stream",
     "text": [
      "C:\\Users\\matia\\AppData\\Local\\Temp\\ipykernel_13540\\3099373608.py:32: FutureWarning: The frame.append method is deprecated and will be removed from pandas in a future version. Use pandas.concat instead.\n",
      "  df = df.append(data, ignore_index=True)\n"
     ]
    },
    {
     "name": "stdout",
     "output_type": "stream",
     "text": [
      "{'fecha': '20220621', 'texto': '#entérate ser pareja de uno de los empresarios más ricos del mundo puede parecer una idea atractiva pero exparejas de elon musk aseguran es una pesadilla ¿cuáles son los motivos', 'usuario': 'eleconomistanet'}\n"
     ]
    },
    {
     "name": "stderr",
     "output_type": "stream",
     "text": [
      "C:\\Users\\matia\\AppData\\Local\\Temp\\ipykernel_13540\\3099373608.py:32: FutureWarning: The frame.append method is deprecated and will be removed from pandas in a future version. Use pandas.concat instead.\n",
      "  df = df.append(data, ignore_index=True)\n"
     ]
    },
    {
     "name": "stdout",
     "output_type": "stream",
     "text": [
      "{'fecha': '20220621', 'texto': 'hace pocos días se filtró una serie de emails en los que elon musk ceo de tesla les exigía a sus empleados que regresen a trabajar presencialmente a las oficinas o renuncien a la compañía como #tech #technology #technews #programming #software', 'usuario': 'hatprogrammers'}\n"
     ]
    },
    {
     "name": "stderr",
     "output_type": "stream",
     "text": [
      "C:\\Users\\matia\\AppData\\Local\\Temp\\ipykernel_13540\\3099373608.py:32: FutureWarning: The frame.append method is deprecated and will be removed from pandas in a future version. Use pandas.concat instead.\n",
      "  df = df.append(data, ignore_index=True)\n"
     ]
    },
    {
     "name": "stdout",
     "output_type": "stream",
     "text": [
      "{'fecha': '20220621', 'texto': 'demandan a elon musk con 258 000 mdd por esquema piramidal de dogecoin #mexico #youtubers #usa #eeuu #acciones #noticias #cdmx #politics #amlo #politica #alerta #abrelosojos #nuevoleon #gdl #jalisco #estados #nacional #zócalo #periodista', 'usuario': 'cpabogadossc'}\n"
     ]
    },
    {
     "name": "stderr",
     "output_type": "stream",
     "text": [
      "C:\\Users\\matia\\AppData\\Local\\Temp\\ipykernel_13540\\3099373608.py:32: FutureWarning: The frame.append method is deprecated and will be removed from pandas in a future version. Use pandas.concat instead.\n",
      "  df = df.append(data, ignore_index=True)\n"
     ]
    },
    {
     "name": "stdout",
     "output_type": "stream",
     "text": [
      "{'fecha': '20220621', 'texto': 'elon musk el genio de la tecnología que trabaja sin descanso', 'usuario': 'aguasneutrales'}\n"
     ]
    },
    {
     "name": "stderr",
     "output_type": "stream",
     "text": [
      "C:\\Users\\matia\\AppData\\Local\\Temp\\ipykernel_13540\\3099373608.py:32: FutureWarning: The frame.append method is deprecated and will be removed from pandas in a future version. Use pandas.concat instead.\n",
      "  df = df.append(data, ignore_index=True)\n"
     ]
    },
    {
     "name": "stdout",
     "output_type": "stream",
     "text": [
      "{'fecha': '20220621', 'texto': 'vamos elon musk', 'usuario': 'valdirhgomes'}\n"
     ]
    },
    {
     "name": "stderr",
     "output_type": "stream",
     "text": [
      "C:\\Users\\matia\\AppData\\Local\\Temp\\ipykernel_13540\\3099373608.py:32: FutureWarning: The frame.append method is deprecated and will be removed from pandas in a future version. Use pandas.concat instead.\n",
      "  df = df.append(data, ignore_index=True)\n"
     ]
    },
    {
     "name": "stdout",
     "output_type": "stream",
     "text": [
      "{'fecha': '20220621', 'texto': 'ya a recordarnos su amistad con elon musk cjodpckd', 'usuario': 'sillygod disco'}\n"
     ]
    },
    {
     "name": "stderr",
     "output_type": "stream",
     "text": [
      "C:\\Users\\matia\\AppData\\Local\\Temp\\ipykernel_13540\\3099373608.py:32: FutureWarning: The frame.append method is deprecated and will be removed from pandas in a future version. Use pandas.concat instead.\n",
      "  df = df.append(data, ignore_index=True)\n"
     ]
    },
    {
     "name": "stdout",
     "output_type": "stream",
     "text": [
      "{'fecha': '20220621', 'texto': 'el hijo de elon musk solicita un cambio de género y nombre para terminar la relación con su padre bruno elon musks son files to change gender name to end relationship with father', 'usuario': 'brunoromero'}\n"
     ]
    },
    {
     "name": "stderr",
     "output_type": "stream",
     "text": [
      "C:\\Users\\matia\\AppData\\Local\\Temp\\ipykernel_13540\\3099373608.py:32: FutureWarning: The frame.append method is deprecated and will be removed from pandas in a future version. Use pandas.concat instead.\n",
      "  df = df.append(data, ignore_index=True)\n"
     ]
    },
    {
     "name": "stdout",
     "output_type": "stream",
     "text": [
      "{'fecha': '20220621', 'texto': 'el hyperloop de elon musk es posible ¿qué tanto lo queremos', 'usuario': 'tuitreportes'}\n"
     ]
    },
    {
     "name": "stderr",
     "output_type": "stream",
     "text": [
      "C:\\Users\\matia\\AppData\\Local\\Temp\\ipykernel_13540\\3099373608.py:32: FutureWarning: The frame.append method is deprecated and will be removed from pandas in a future version. Use pandas.concat instead.\n",
      "  df = df.append(data, ignore_index=True)\n"
     ]
    },
    {
     "name": "stdout",
     "output_type": "stream",
     "text": [
      "{'fecha': '20220621', 'texto': 'twitter fue comprado por elon musk y ahora cambiarán las políticas de la empresa de ahora en adelante ellos tienen acceso a tu galería si quieres evitar esto copia y pega este mensaje y reenvíalo a 10 amigos para que no entres en la lista negra no lo autorizo sr musk', 'usuario': 'hwamystar'}\n"
     ]
    },
    {
     "name": "stderr",
     "output_type": "stream",
     "text": [
      "C:\\Users\\matia\\AppData\\Local\\Temp\\ipykernel_13540\\3099373608.py:32: FutureWarning: The frame.append method is deprecated and will be removed from pandas in a future version. Use pandas.concat instead.\n",
      "  df = df.append(data, ignore_index=True)\n"
     ]
    },
    {
     "name": "stdout",
     "output_type": "stream",
     "text": [
      "{'fecha': '20220621', 'texto': 'elon musk y sus empresas spacex y tesla fueron demandados por 258 000 millones de dólares en daños de un supuesto plan de estafa piramidal para respaldar a la criptomoneda', 'usuario': 'insurgentepress'}\n"
     ]
    },
    {
     "name": "stderr",
     "output_type": "stream",
     "text": [
      "C:\\Users\\matia\\AppData\\Local\\Temp\\ipykernel_13540\\3099373608.py:32: FutureWarning: The frame.append method is deprecated and will be removed from pandas in a future version. Use pandas.concat instead.\n",
      "  df = df.append(data, ignore_index=True)\n"
     ]
    },
    {
     "name": "stdout",
     "output_type": "stream",
     "text": [
      "{'fecha': '20220621', 'texto': 'esta semana ha estado movida en el terreno de la tecnología la noticia más sonada es el adiós a internet explorer después de 27 años dynatrace la empresa de software ha presentado la aplicación openfeature', 'usuario': 'impactotic'}\n"
     ]
    },
    {
     "name": "stderr",
     "output_type": "stream",
     "text": [
      "C:\\Users\\matia\\AppData\\Local\\Temp\\ipykernel_13540\\3099373608.py:32: FutureWarning: The frame.append method is deprecated and will be removed from pandas in a future version. Use pandas.concat instead.\n",
      "  df = df.append(data, ignore_index=True)\n"
     ]
    },
    {
     "name": "stdout",
     "output_type": "stream",
     "text": [
      "{'fecha': '20220621', 'texto': 'urge ver este tipo de noticias inundar la web pero no cualquier otra cosa es mas importante la prensa tiene unas prioridades lamentables gente como elon musk deberia invertir su plata en este tipo de emprendimientos y no gastar tanta plata en comprar esta red social', 'usuario': 'yurak'}\n"
     ]
    },
    {
     "name": "stderr",
     "output_type": "stream",
     "text": [
      "C:\\Users\\matia\\AppData\\Local\\Temp\\ipykernel_13540\\3099373608.py:32: FutureWarning: The frame.append method is deprecated and will be removed from pandas in a future version. Use pandas.concat instead.\n",
      "  df = df.append(data, ignore_index=True)\n"
     ]
    },
    {
     "name": "stdout",
     "output_type": "stream",
     "text": [
      "{'fecha': '20220621', 'texto': 'elon musk sigue comprando dogecoin a pesar del colapso su precio sube un 4', 'usuario': 'bv socialmedia'}\n"
     ]
    },
    {
     "name": "stderr",
     "output_type": "stream",
     "text": [
      "C:\\Users\\matia\\AppData\\Local\\Temp\\ipykernel_13540\\3099373608.py:32: FutureWarning: The frame.append method is deprecated and will be removed from pandas in a future version. Use pandas.concat instead.\n",
      "  df = df.append(data, ignore_index=True)\n"
     ]
    },
    {
     "name": "stdout",
     "output_type": "stream",
     "text": [
      "{'fecha': '20220621', 'texto': 'elon musk expulsa ela de novo', 'usuario': 'guilher46000375'}\n"
     ]
    },
    {
     "name": "stderr",
     "output_type": "stream",
     "text": [
      "C:\\Users\\matia\\AppData\\Local\\Temp\\ipykernel_13540\\3099373608.py:32: FutureWarning: The frame.append method is deprecated and will be removed from pandas in a future version. Use pandas.concat instead.\n",
      "  df = df.append(data, ignore_index=True)\n"
     ]
    },
    {
     "name": "stdout",
     "output_type": "stream",
     "text": [
      "{'fecha': '20220621', 'texto': 'que buena noticia estos seudoexpresidentes eran simples presidentes pero ahora viven como elon musk son millonarios con acciones y casas y plata por todos lados ahora se entiende el problema de chile', 'usuario': 'jona63317941'}\n"
     ]
    },
    {
     "name": "stderr",
     "output_type": "stream",
     "text": [
      "C:\\Users\\matia\\AppData\\Local\\Temp\\ipykernel_13540\\3099373608.py:32: FutureWarning: The frame.append method is deprecated and will be removed from pandas in a future version. Use pandas.concat instead.\n",
      "  df = df.append(data, ignore_index=True)\n"
     ]
    },
    {
     "name": "stdout",
     "output_type": "stream",
     "text": [
      "{'fecha': '20220621', 'texto': 'elon musk enfrenta demanda millonaria por haber promovido una criptomoneda', 'usuario': 'vduranjs1'}\n"
     ]
    },
    {
     "name": "stderr",
     "output_type": "stream",
     "text": [
      "C:\\Users\\matia\\AppData\\Local\\Temp\\ipykernel_13540\\3099373608.py:32: FutureWarning: The frame.append method is deprecated and will be removed from pandas in a future version. Use pandas.concat instead.\n",
      "  df = df.append(data, ignore_index=True)\n"
     ]
    },
    {
     "name": "stdout",
     "output_type": "stream",
     "text": [
      "{'fecha': '20220621', 'texto': 'elon musk dijo q en tuiter iba a ver libertad d expresion hay represión total d ideas y pensamientos populares', 'usuario': 'elsamartnez17'}\n"
     ]
    },
    {
     "name": "stderr",
     "output_type": "stream",
     "text": [
      "C:\\Users\\matia\\AppData\\Local\\Temp\\ipykernel_13540\\3099373608.py:32: FutureWarning: The frame.append method is deprecated and will be removed from pandas in a future version. Use pandas.concat instead.\n",
      "  df = df.append(data, ignore_index=True)\n"
     ]
    },
    {
     "name": "stdout",
     "output_type": "stream",
     "text": [
      "{'fecha': '20220621', 'texto': '¿despidos en twitter el claro mensaje que envió elon musk a sus empleados', 'usuario': 'alnaviocom'}\n"
     ]
    },
    {
     "name": "stderr",
     "output_type": "stream",
     "text": [
      "C:\\Users\\matia\\AppData\\Local\\Temp\\ipykernel_13540\\3099373608.py:32: FutureWarning: The frame.append method is deprecated and will be removed from pandas in a future version. Use pandas.concat instead.\n",
      "  df = df.append(data, ignore_index=True)\n"
     ]
    },
    {
     "name": "stdout",
     "output_type": "stream",
     "text": [
      "{'fecha': '20220621', 'texto': 'twitter fue comprado por elon musk y ahora cambiarán las políticas de la empresa de ahora en adelante ellos tienen acceso a tu galería si quieres evitar esto copia y pega este mensaje y reenvíalo a 10 amigos para que no entres en la lista negra no lo autorizo sr musk', 'usuario': 'hwamystar'}\n"
     ]
    },
    {
     "name": "stderr",
     "output_type": "stream",
     "text": [
      "C:\\Users\\matia\\AppData\\Local\\Temp\\ipykernel_13540\\3099373608.py:32: FutureWarning: The frame.append method is deprecated and will be removed from pandas in a future version. Use pandas.concat instead.\n",
      "  df = df.append(data, ignore_index=True)\n"
     ]
    },
    {
     "name": "stdout",
     "output_type": "stream",
     "text": [
      "{'fecha': '20220621', 'texto': 'en el capitalismo actual los trabajadores pueden valer mucho por obra del mercado elon musk aseguró hace unas semanas que el 10 de la plantilla de tesla debía ser despedida pero quizás no le haga falta echar a nadie ya que sus empleados se están yendo', 'usuario': 'wreynagavas'}\n"
     ]
    },
    {
     "name": "stderr",
     "output_type": "stream",
     "text": [
      "C:\\Users\\matia\\AppData\\Local\\Temp\\ipykernel_13540\\3099373608.py:32: FutureWarning: The frame.append method is deprecated and will be removed from pandas in a future version. Use pandas.concat instead.\n",
      "  df = df.append(data, ignore_index=True)\n"
     ]
    },
    {
     "name": "stdout",
     "output_type": "stream",
     "text": [
      "{'fecha': '20220621', 'texto': 'y falto decir que la culpa tambien era de franco del volcan de canarias del cambio climatico del virus del mono de la caló del terremoto con ideologia de genero de freezer de los 3 de las azores del pegasus y de almeida y que no se nos olvide de elon musk', 'usuario': 'diegodelaballi1'}\n"
     ]
    },
    {
     "name": "stderr",
     "output_type": "stream",
     "text": [
      "C:\\Users\\matia\\AppData\\Local\\Temp\\ipykernel_13540\\3099373608.py:32: FutureWarning: The frame.append method is deprecated and will be removed from pandas in a future version. Use pandas.concat instead.\n",
      "  df = df.append(data, ignore_index=True)\n"
     ]
    },
    {
     "name": "stdout",
     "output_type": "stream",
     "text": [
      "{'fecha': '20220621', 'texto': 'twitter fue comprado por elon musk y ahora cambiarán las políticas de la empresa de ahora en adelante ellos tienen acceso a tu galería si quieres evitar esto copia y pega este mensaje y reenvíalo a 10 amigos para que no entres en la lista negra no lo autorizo sr musk', 'usuario': 'hwamystar'}\n"
     ]
    },
    {
     "name": "stderr",
     "output_type": "stream",
     "text": [
      "C:\\Users\\matia\\AppData\\Local\\Temp\\ipykernel_13540\\3099373608.py:32: FutureWarning: The frame.append method is deprecated and will be removed from pandas in a future version. Use pandas.concat instead.\n",
      "  df = df.append(data, ignore_index=True)\n"
     ]
    },
    {
     "name": "stdout",
     "output_type": "stream",
     "text": [
      "{'fecha': '20220621', 'texto': 'twitter fue comprado por elon musk y ahora cambiarán las políticas de la empresa de ahora en adelante ellos tienen acceso a tu galería si quieres evitar esto copia y pega este mensaje y reenvíalo a 10 amigos para que no entres en la lista negra no lo autorizo sr musk', 'usuario': 'swdiep'}\n"
     ]
    },
    {
     "name": "stderr",
     "output_type": "stream",
     "text": [
      "C:\\Users\\matia\\AppData\\Local\\Temp\\ipykernel_13540\\3099373608.py:32: FutureWarning: The frame.append method is deprecated and will be removed from pandas in a future version. Use pandas.concat instead.\n",
      "  df = df.append(data, ignore_index=True)\n"
     ]
    },
    {
     "name": "stdout",
     "output_type": "stream",
     "text": [
      "{'fecha': '20220621', 'texto': 'ojalá que elon musk elimine la cuenta de todos estos bots trolls', 'usuario': 'bagnatosantino'}\n"
     ]
    },
    {
     "name": "stderr",
     "output_type": "stream",
     "text": [
      "C:\\Users\\matia\\AppData\\Local\\Temp\\ipykernel_13540\\3099373608.py:32: FutureWarning: The frame.append method is deprecated and will be removed from pandas in a future version. Use pandas.concat instead.\n",
      "  df = df.append(data, ignore_index=True)\n"
     ]
    },
    {
     "name": "stdout",
     "output_type": "stream",
     "text": [
      "{'fecha': '20220621', 'texto': 'qué hará elon musk ahora que mark cuban es el rico más querido y popular', 'usuario': 'striker 1994'}\n"
     ]
    },
    {
     "name": "stderr",
     "output_type": "stream",
     "text": [
      "C:\\Users\\matia\\AppData\\Local\\Temp\\ipykernel_13540\\3099373608.py:32: FutureWarning: The frame.append method is deprecated and will be removed from pandas in a future version. Use pandas.concat instead.\n",
      "  df = df.append(data, ignore_index=True)\n"
     ]
    },
    {
     "name": "stdout",
     "output_type": "stream",
     "text": [
      "{'fecha': '20220621', 'texto': 'twitter fue comprado por elon musk y ahora cambiarán las políticas de la empresa de ahora en adelante ellos tienen acceso a tu galería si quieres evitar esto copia y pega este mensaje y reenvíalo a 10 amigos para que no entres en la lista negra no lo autorizo sr musk', 'usuario': 'swdiep'}\n"
     ]
    },
    {
     "name": "stderr",
     "output_type": "stream",
     "text": [
      "C:\\Users\\matia\\AppData\\Local\\Temp\\ipykernel_13540\\3099373608.py:32: FutureWarning: The frame.append method is deprecated and will be removed from pandas in a future version. Use pandas.concat instead.\n",
      "  df = df.append(data, ignore_index=True)\n"
     ]
    },
    {
     "name": "stdout",
     "output_type": "stream",
     "text": [
      "{'fecha': '20220621', 'texto': 'twitter fue comprado por elon musk y ahora cambiarán las políticas de la empresa de ahora en adelante ellos tienen acceso a tu galería si quieres evitar esto copia y pega este mensaje y reenvíalo a 10 amigos para que no entres en la lista negra no lo autorizo sr musk', 'usuario': 'heavysuntz'}\n"
     ]
    },
    {
     "name": "stderr",
     "output_type": "stream",
     "text": [
      "C:\\Users\\matia\\AppData\\Local\\Temp\\ipykernel_13540\\3099373608.py:32: FutureWarning: The frame.append method is deprecated and will be removed from pandas in a future version. Use pandas.concat instead.\n",
      "  df = df.append(data, ignore_index=True)\n"
     ]
    },
    {
     "name": "stdout",
     "output_type": "stream",
     "text": [
      "{'fecha': '20220621', 'texto': 'twitter fue comprado por elon musk y ahora cambiarán las políticas de la empresa de ahora en adelante ellos tienen acceso a tu galería si quieres evitar esto copia y pega este mensaje y reenvíalo a 10 amigos para que no entres en la lista negra no lo autorizo sr musk', 'usuario': 'chaesposaa'}\n"
     ]
    },
    {
     "name": "stderr",
     "output_type": "stream",
     "text": [
      "C:\\Users\\matia\\AppData\\Local\\Temp\\ipykernel_13540\\3099373608.py:32: FutureWarning: The frame.append method is deprecated and will be removed from pandas in a future version. Use pandas.concat instead.\n",
      "  df = df.append(data, ignore_index=True)\n"
     ]
    },
    {
     "name": "stdout",
     "output_type": "stream",
     "text": [
      "{'fecha': '20220621', 'texto': 'lo que debes saber sobre el esquema ponzi motivo de la demanda a elon musk', 'usuario': 'vivonoticiasof'}\n"
     ]
    },
    {
     "name": "stderr",
     "output_type": "stream",
     "text": [
      "C:\\Users\\matia\\AppData\\Local\\Temp\\ipykernel_13540\\3099373608.py:32: FutureWarning: The frame.append method is deprecated and will be removed from pandas in a future version. Use pandas.concat instead.\n",
      "  df = df.append(data, ignore_index=True)\n"
     ]
    },
    {
     "name": "stdout",
     "output_type": "stream",
     "text": [
      "{'fecha': '20220621', 'texto': 'empleados de spacex fueron despedidos', 'usuario': 'visiontimesesp'}\n"
     ]
    },
    {
     "name": "stderr",
     "output_type": "stream",
     "text": [
      "C:\\Users\\matia\\AppData\\Local\\Temp\\ipykernel_13540\\3099373608.py:32: FutureWarning: The frame.append method is deprecated and will be removed from pandas in a future version. Use pandas.concat instead.\n",
      "  df = df.append(data, ignore_index=True)\n"
     ]
    },
    {
     "name": "stdout",
     "output_type": "stream",
     "text": [
      "{'fecha': '20220620', 'texto': 'twitter fue comprado por elon musk y ahora cambiarán las políticas de la empresa de ahora en adelante ellos tienen acceso a tu galería si quieres evitar esto copia y pega este mensaje y reenvíalo a 10 amigos para que no entres en la lista negra no lo autorizo sr musk', 'usuario': 'chaesposaa'}\n"
     ]
    },
    {
     "name": "stderr",
     "output_type": "stream",
     "text": [
      "C:\\Users\\matia\\AppData\\Local\\Temp\\ipykernel_13540\\3099373608.py:32: FutureWarning: The frame.append method is deprecated and will be removed from pandas in a future version. Use pandas.concat instead.\n",
      "  df = df.append(data, ignore_index=True)\n"
     ]
    },
    {
     "name": "stdout",
     "output_type": "stream",
     "text": [
      "{'fecha': '20220620', 'texto': 'elon musk reitera su apoyo a dogecoin después de enfrentar una demanda criptográfica de usd 258 000 000 000 vía', 'usuario': 'm0nedavenezuela'}\n"
     ]
    },
    {
     "name": "stderr",
     "output_type": "stream",
     "text": [
      "C:\\Users\\matia\\AppData\\Local\\Temp\\ipykernel_13540\\3099373608.py:32: FutureWarning: The frame.append method is deprecated and will be removed from pandas in a future version. Use pandas.concat instead.\n",
      "  df = df.append(data, ignore_index=True)\n"
     ]
    },
    {
     "name": "stdout",
     "output_type": "stream",
     "text": [
      "{'fecha': '20220620', 'texto': 'twitter fue comprado por elon musk y ahora cambiarán las políticas de la empresa de ahora en adelante ellos tienen acceso a tu galería si quieres evitar esto copia y pega este mensaje y reenvíalo a 10 amigos para que no entres en la lista negra no lo autorizo sr musk', 'usuario': 'chaesposaa'}\n"
     ]
    },
    {
     "name": "stderr",
     "output_type": "stream",
     "text": [
      "C:\\Users\\matia\\AppData\\Local\\Temp\\ipykernel_13540\\3099373608.py:32: FutureWarning: The frame.append method is deprecated and will be removed from pandas in a future version. Use pandas.concat instead.\n",
      "  df = df.append(data, ignore_index=True)\n"
     ]
    },
    {
     "name": "stdout",
     "output_type": "stream",
     "text": [
      "{'fecha': '20220620', 'texto': 'twitter fue comprado por elon musk y ahora cambiarán las políticas de la empresa de ahora en adelante ellos tienen acceso a tu galería si quieres evitar esto copia y pega este mensaje y reenvíalo a 10 amigos para que no entres en la lista negra no lo autorizo sr musk', 'usuario': 'fusbolito'}\n"
     ]
    },
    {
     "name": "stderr",
     "output_type": "stream",
     "text": [
      "C:\\Users\\matia\\AppData\\Local\\Temp\\ipykernel_13540\\3099373608.py:32: FutureWarning: The frame.append method is deprecated and will be removed from pandas in a future version. Use pandas.concat instead.\n",
      "  df = df.append(data, ignore_index=True)\n"
     ]
    },
    {
     "name": "stdout",
     "output_type": "stream",
     "text": [
      "{'fecha': '20220620', 'texto': 'twitter fue comprado por elon musk y ahora cambiarán las políticas de la empresa de ahora en adelante ellos tienen acceso a tu galería si quieres evitar esto copia y pega este mensaje y reenvíalo a 10 amigos para que no entres en la lista negra no lo autorizo sr musk', 'usuario': 'chaesposaa'}\n"
     ]
    },
    {
     "name": "stderr",
     "output_type": "stream",
     "text": [
      "C:\\Users\\matia\\AppData\\Local\\Temp\\ipykernel_13540\\3099373608.py:32: FutureWarning: The frame.append method is deprecated and will be removed from pandas in a future version. Use pandas.concat instead.\n",
      "  df = df.append(data, ignore_index=True)\n"
     ]
    },
    {
     "name": "stdout",
     "output_type": "stream",
     "text": [
      "{'fecha': '20220620', 'texto': 'twitter fue comprado por elon musk y ahora cambiarán las políticas de la empresa de ahora en adelante ellos tienen acceso a tu galería si quieres evitar esto copia y pega este mensaje y reenvíalo a 10 amigos para que no entres en la lista negra no lo autorizo sr musk', 'usuario': 'chaesposaa'}\n"
     ]
    },
    {
     "name": "stderr",
     "output_type": "stream",
     "text": [
      "C:\\Users\\matia\\AppData\\Local\\Temp\\ipykernel_13540\\3099373608.py:32: FutureWarning: The frame.append method is deprecated and will be removed from pandas in a future version. Use pandas.concat instead.\n",
      "  df = df.append(data, ignore_index=True)\n"
     ]
    },
    {
     "name": "stdout",
     "output_type": "stream",
     "text": [
      "{'fecha': '20220620', 'texto': 'twitter fue comprado por elon musk y ahora cambiarán las políticas de la empresa de ahora en adelante ellos tienen acceso a tu galería si quieres evitar esto copia y pega este mensaje y reenvíalo a 10 amigos para que no entres en la lista negra no lo autorizo sr musk', 'usuario': 'chaesposaa'}\n"
     ]
    },
    {
     "name": "stderr",
     "output_type": "stream",
     "text": [
      "C:\\Users\\matia\\AppData\\Local\\Temp\\ipykernel_13540\\3099373608.py:32: FutureWarning: The frame.append method is deprecated and will be removed from pandas in a future version. Use pandas.concat instead.\n",
      "  df = df.append(data, ignore_index=True)\n"
     ]
    },
    {
     "name": "stdout",
     "output_type": "stream",
     "text": [
      "{'fecha': '20220620', 'texto': 'twitter fue comprado por elon musk y ahora cambiarán las políticas de la empresa de ahora en adelante ellos tienen acceso a tu galería si quieres evitar esto copia y pega este mensaje y reenvíalo a 10 amigos para que no entres en la lista negra no lo autorizo sr musk', 'usuario': 'chaesposaa'}\n"
     ]
    },
    {
     "name": "stderr",
     "output_type": "stream",
     "text": [
      "C:\\Users\\matia\\AppData\\Local\\Temp\\ipykernel_13540\\3099373608.py:32: FutureWarning: The frame.append method is deprecated and will be removed from pandas in a future version. Use pandas.concat instead.\n",
      "  df = df.append(data, ignore_index=True)\n"
     ]
    },
    {
     "name": "stdout",
     "output_type": "stream",
     "text": [
      "{'fecha': '20220620', 'texto': 'twitter fue comprado por elon musk y ahora cambiarán las políticas de la empresa de ahora en adelante ellos tienen acceso a tu galería si quieres evitar esto copia y pega este mensaje y reenvíalo a 10 amigos para que no entres en la lista negra no lo autorizo sr musk', 'usuario': 'chaesposaa'}\n"
     ]
    },
    {
     "name": "stderr",
     "output_type": "stream",
     "text": [
      "C:\\Users\\matia\\AppData\\Local\\Temp\\ipykernel_13540\\3099373608.py:32: FutureWarning: The frame.append method is deprecated and will be removed from pandas in a future version. Use pandas.concat instead.\n",
      "  df = df.append(data, ignore_index=True)\n"
     ]
    },
    {
     "name": "stdout",
     "output_type": "stream",
     "text": [
      "{'fecha': '20220620', 'texto': 'jajaja amo que gaga y elon musk jajajajajaja', 'usuario': 'iviviolence'}\n"
     ]
    },
    {
     "name": "stderr",
     "output_type": "stream",
     "text": [
      "C:\\Users\\matia\\AppData\\Local\\Temp\\ipykernel_13540\\3099373608.py:32: FutureWarning: The frame.append method is deprecated and will be removed from pandas in a future version. Use pandas.concat instead.\n",
      "  df = df.append(data, ignore_index=True)\n"
     ]
    },
    {
     "name": "stdout",
     "output_type": "stream",
     "text": [
      "{'fecha': '20220620', 'texto': 'twitter fue comprado por elon musk y ahora cambiarán las políticas de la empresa de ahora en adelante ellos tienen acceso a tu galería si quieres evitar esto copia y pega este mensaje y reenvíalo a 10 amigos para que no entres en la lista negra no lo autorizo sr musk', 'usuario': 'chaesposaa'}\n"
     ]
    },
    {
     "name": "stderr",
     "output_type": "stream",
     "text": [
      "C:\\Users\\matia\\AppData\\Local\\Temp\\ipykernel_13540\\3099373608.py:32: FutureWarning: The frame.append method is deprecated and will be removed from pandas in a future version. Use pandas.concat instead.\n",
      "  df = df.append(data, ignore_index=True)\n"
     ]
    },
    {
     "name": "stdout",
     "output_type": "stream",
     "text": [
      "{'fecha': '20220620', 'texto': 'elon musk sigue comprando dogecoin a pesar del colapso su precio sube un 4', 'usuario': 'merca20'}\n"
     ]
    }
   ],
   "source": [
    "\n",
    "n=100\n",
    "url = 'https://rutbmzlxuu8vw3w-db20220601185600.adb.sa-saopaulo-1.oraclecloudapps.com/ords/pln/pln/registrar'\n",
    "index = 0\n",
    "df = pd.DataFrame()\n",
    "tweets = api.search_tweets(\"Elon Musk OR SpaceX  OR Elon Mosk OR Starlink OR elon musk OR Tesla -filter:retweets\", lang=\"es\", count=n,tweet_mode=\"extended\")\n",
    "for tweet in tweets: \n",
    "    #print(tweet.created_at,'|', tweet.author.screen_name,'|', tweet.text,'|',tweet.author.location,'|')\n",
    "    \n",
    "    fecha = cleanfecha(tweet.created_at)\n",
    "    \n",
    "    txtTweet = limpiar_token(emoticones(api.get_status(id=tweet.id, tweet_mode='extended').full_text))\n",
    "    txtTweet = txtTweet.strip()\n",
    "    \n",
    "    author = limpiar_token(emoticones(tweet.author.screen_name))\n",
    "    author = author.strip()\n",
    "    \n",
    "    #authornick = (limpiar_token(emoticones(tweet.author.name)))\n",
    "        \n",
    "    data = {'fecha':fecha,'texto':txtTweet,'usuario':author}\n",
    "    x = requests.post(url,json=data)\n",
    "\n",
    "    if x.text=='200\\n':\n",
    "        rta='🟢'\n",
    "    elif x.text=='400\\n':\n",
    "        rta='🟠'\n",
    "    else:\n",
    "        rta='🔴'\n",
    "\n",
    "    #print(index,rta,x.text,data)\n",
    "    print(data)\n",
    "    index += 1\n",
    "    df = df.append(data, ignore_index=True)\n"
   ]
  },
  {
   "cell_type": "code",
   "execution_count": null,
   "id": "2adaaa68",
   "metadata": {},
   "outputs": [],
   "source": [
    "df"
   ]
  },
  {
   "cell_type": "code",
   "execution_count": null,
   "id": "5f5ca5bb",
   "metadata": {},
   "outputs": [],
   "source": []
  },
  {
   "cell_type": "code",
   "execution_count": 7,
   "id": "d9c227ab",
   "metadata": {},
   "outputs": [],
   "source": [
    "df.to_csv('df.csv',index=False)"
   ]
  },
  {
   "cell_type": "code",
   "execution_count": 8,
   "id": "0940adce",
   "metadata": {},
   "outputs": [
    {
     "data": {
      "text/html": [
       "<div>\n",
       "<style scoped>\n",
       "    .dataframe tbody tr th:only-of-type {\n",
       "        vertical-align: middle;\n",
       "    }\n",
       "\n",
       "    .dataframe tbody tr th {\n",
       "        vertical-align: top;\n",
       "    }\n",
       "\n",
       "    .dataframe thead th {\n",
       "        text-align: right;\n",
       "    }\n",
       "</style>\n",
       "<table border=\"1\" class=\"dataframe\">\n",
       "  <thead>\n",
       "    <tr style=\"text-align: right;\">\n",
       "      <th></th>\n",
       "      <th>fecha</th>\n",
       "      <th>texto</th>\n",
       "      <th>usuario</th>\n",
       "    </tr>\n",
       "  </thead>\n",
       "  <tbody>\n",
       "    <tr>\n",
       "      <th>0</th>\n",
       "      <td>20220616</td>\n",
       "      <td>hubiera sido bueno hablar de infraestructura c...</td>\n",
       "      <td>crash over run</td>\n",
       "    </tr>\n",
       "    <tr>\n",
       "      <th>1</th>\n",
       "      <td>20220611</td>\n",
       "      <td>elon musk compra twitter por 44 000 millones d...</td>\n",
       "      <td>designseo cl</td>\n",
       "    </tr>\n",
       "  </tbody>\n",
       "</table>\n",
       "</div>"
      ],
      "text/plain": [
       "      fecha                                              texto         usuario\n",
       "0  20220616  hubiera sido bueno hablar de infraestructura c...  crash over run\n",
       "1  20220611  elon musk compra twitter por 44 000 millones d...    designseo cl"
      ]
     },
     "execution_count": 8,
     "metadata": {},
     "output_type": "execute_result"
    }
   ],
   "source": [
    "data = pd.read_csv('df.csv')\n",
    "data"
   ]
  },
  {
   "cell_type": "code",
   "execution_count": null,
   "id": "9f936002",
   "metadata": {},
   "outputs": [],
   "source": [
    "tweets = api.search_tweets(\"Elon Musk OR SpaceX  OR Elon Mosk OR Starlink OR elon musk OR Tesla -filter:retweets\", lang=\"es\", count=n,tweet_mode=\"extended\")\n",
    "for tweet in tweets: \n",
    "    #print(tweet.created_at,'|', tweet.author.screen_name,'|', tweet.text,'|',tweet.author.location,'|')\n",
    "    \n",
    "    fecha = cleanfecha(tweet.created_at)\n",
    "    \n",
    "    txtTweet = limpiar_token(emoticones(api.get_status(id=tweet.id, tweet_mode='extended').full_text))\n",
    "    txtTweet = txtTweet.strip()\n",
    "    \n",
    "    author = limpiar_token(emoticones(tweet.author.screen_name))\n",
    "    author = author.strip()\n",
    "    \n",
    "    #authornick = (limpiar_token(emoticones(tweet.author.name)))\n",
    "        \n",
    "    data = {'fecha':fecha,'texto':txtTweet,'usuario':author}\n",
    "    x = requests.post(url,json=data)\n",
    "\n",
    "    if x.text=='200\\n':\n",
    "        rta='🟢'\n",
    "    elif x.text=='400\\n':\n",
    "        rta='🟠'\n",
    "    else:\n",
    "        rta='🔴'\n",
    "\n",
    "    #print(index,rta,x.text,data)\n",
    "    print(data)\n",
    "    index += 1\n",
    "    df = df.append(data, ignore_index=True)"
   ]
  },
  {
   "cell_type": "code",
   "execution_count": null,
   "id": "2b366f0b",
   "metadata": {},
   "outputs": [],
   "source": []
  }
 ],
 "metadata": {
  "kernelspec": {
   "display_name": "Python 3 (ipykernel)",
   "language": "python",
   "name": "python3"
  },
  "language_info": {
   "codemirror_mode": {
    "name": "ipython",
    "version": 3
   },
   "file_extension": ".py",
   "mimetype": "text/x-python",
   "name": "python",
   "nbconvert_exporter": "python",
   "pygments_lexer": "ipython3",
   "version": "3.8.12"
  },
  "latex_envs": {
   "LaTeX_envs_menu_present": true,
   "autoclose": false,
   "autocomplete": true,
   "bibliofile": "biblio.bib",
   "cite_by": "apalike",
   "current_citInitial": 1,
   "eqLabelWithNumbers": true,
   "eqNumInitial": 1,
   "hotkeys": {
    "equation": "Ctrl-E",
    "itemize": "Ctrl-I"
   },
   "labels_anchors": false,
   "latex_user_defs": false,
   "report_style_numbering": false,
   "user_envs_cfg": false
  },
  "varInspector": {
   "cols": {
    "lenName": 16,
    "lenType": 16,
    "lenVar": 40
   },
   "kernels_config": {
    "python": {
     "delete_cmd_postfix": "",
     "delete_cmd_prefix": "del ",
     "library": "var_list.py",
     "varRefreshCmd": "print(var_dic_list())"
    },
    "r": {
     "delete_cmd_postfix": ") ",
     "delete_cmd_prefix": "rm(",
     "library": "var_list.r",
     "varRefreshCmd": "cat(var_dic_list()) "
    }
   },
   "types_to_exclude": [
    "module",
    "function",
    "builtin_function_or_method",
    "instance",
    "_Feature"
   ],
   "window_display": false
  }
 },
 "nbformat": 4,
 "nbformat_minor": 5
}
