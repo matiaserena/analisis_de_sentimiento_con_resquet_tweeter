{
 "cells": [
  {
   "cell_type": "code",
   "execution_count": 3,
   "id": "8638f304",
   "metadata": {},
   "outputs": [],
   "source": [
    "import requests\n",
    "import pandas as pd\n",
    "import os\n",
    "import json\n",
    "import tweepy\n",
    "import configparser\n",
    "import emoji\n",
    "import re\n",
    "import nltk\n",
    "from nltk.tokenize import RegexpTokenizer # para tokenizar\n",
    "import unicodedata\n",
    "import json\n",
    "# To set your environment variables in your terminal run the following line:\n",
    "# export 'BEARER_TOKEN'='<your_bearer_token>'\n",
    "\n",
    "\n",
    "\n",
    "bearer_token='AAAAAAAAAAAAAAAAAAAAAM5BdAEAAAAAtrKzlZHhMsZ7go1v6zAaoqTaFGo%3DvAFpXJ9txE8r34HBF7iL4MoTPqSP1yRh3L51hz9HuXWK4YN1AN'\n",
    "consumer_key='4x2FUb0lcnH89mMoPobeHHLEh'\n",
    "consumer_secret='idm5ExJNCdocaANssfKEgRAph6RKYXblJv5FxSiytya5PkSxvA'\n",
    "access_token='1968014677-2Kg1j75XW7g6HnlKhMSNWHVN1MTNm9U6jxDNFF6'\n",
    "access_token_secret='O1RYa2SpI1OymaayxcvDWbE4w1uyIf3PYXEGOQ1Q7qXzw'\n"
   ]
  },
  {
   "cell_type": "code",
   "execution_count": 4,
   "id": "e0269570",
   "metadata": {},
   "outputs": [],
   "source": [
    "auth= tweepy.OAuthHandler(consumer_key, consumer_secret)\n",
    "auth.set_access_token(access_token, access_token_secret)"
   ]
  },
  {
   "cell_type": "code",
   "execution_count": 5,
   "id": "9814d351",
   "metadata": {},
   "outputs": [],
   "source": [
    "\n",
    "# Guardamos en una variable\n",
    "api = tweepy.API(auth)\n",
    "api= tweepy.API(auth,wait_on_rate_limit=True)"
   ]
  },
  {
   "cell_type": "code",
   "execution_count": 10,
   "id": "ff5716a9",
   "metadata": {},
   "outputs": [],
   "source": [
    "def convert(s):\n",
    "    r=''\n",
    "    for c in s:\n",
    "        try:\n",
    "            c.encode('latin-1')\n",
    "        except UnicodeEncodeError:\n",
    "            c = unicodedata.normalize('NFKD', c).encode('latin-1', 'ignore').decode('latin-1')\n",
    "        r += c\n",
    "    return r\n",
    "\n",
    "def limpiar_token(texto):\n",
    "    # Se convierte todo el texto a minúsculas\n",
    "    nuevo_texto = texto.lower()\n",
    "    #sacar link\n",
    "    nuevo_texto = re.sub(f'\\S*[://]\\S*','', nuevo_texto)\n",
    "    #sacar @\n",
    "    \n",
    "    nuevo_texto = re.sub(f'@\\S+','', nuevo_texto)\n",
    "    nuevo_texto = re.sub(f'rt\\s@\\S+','', nuevo_texto)\n",
    "    # sacar #\n",
    "    #nuevo_texto = re.sub(f'#\\S+','', nuevo_texto)\n",
    "    #a,b = 'áéíóúüñ','aeiouun'\n",
    "    #trans = str.maketrans(a,b)\n",
    "    \n",
    "    #nuevo_texto = nuevo_texto.translate(trans)\n",
    "    # Eliminación de páginas web (palabras que empiezan por \"http\")\n",
    "    nuevo_texto = re.sub('S+', ' ', nuevo_texto)\n",
    "    # Eliminación de signos de puntuación\n",
    "    regex = '[\\\\“\\\\!\\\\\"\\\\$\\\\%\\\\&\\\\\\'\\\\(\\\\)\\\\*\\\\+\\\\,\\\\-\\\\.\\\\/\\\\:\\\\;\\\\<\\\\=\\\\>\\\\?\\\\@\\\\[\\\\\\\\\\\\]\\\\^_\\\\`\\\\{\\\\|\\\\}\\\\~]'\n",
    "    nuevo_texto = re.sub(regex , ' ', nuevo_texto)\n",
    "    # Eliminación de espacios en blanco múltiples\n",
    "    nuevo_texto = re.sub(\"\\\\s+\", ' ', nuevo_texto)\n",
    "    nuevo_texto = convert(nuevo_texto)\n",
    "    \n",
    "    # Tokenización por palabras individuales\n",
    "    \n",
    "    return nuevo_texto\n",
    "\n"
   ]
  },
  {
   "cell_type": "code",
   "execution_count": 8,
   "id": "48bb2ec0",
   "metadata": {},
   "outputs": [],
   "source": [
    "\n",
    "    \n",
    "def emoticones(text):\n",
    "    emo = emoji.demojize(text, delimiters=(\" :\", \": \"))\n",
    "    return emo\n",
    "\n",
    "def tokenizador(txt):\n",
    "    tokenizer = RegexpTokenizer(\"\\w+\")\n",
    "    txt_Token_pal = tokenizer.tokenize(txt)\n",
    "    return txt_Token_pal\n",
    "\n",
    "def cleanfecha(fecha):\n",
    "    fecha = tweet.created_at\n",
    "    fecha = f'{str(fecha)[0:4]}{str(fecha)[5:7]}{str(fecha)[8:10]}'\n",
    "    return fecha"
   ]
  },
  {
   "cell_type": "code",
   "execution_count": null,
   "id": "70f7cff6",
   "metadata": {
    "scrolled": true
   },
   "outputs": [
    {
     "name": "stdout",
     "output_type": "stream",
     "text": [
      "{'fecha': '20220621', 'texto': 'como le explico al mismísimo elon musk que no me gusta el queso', 'usuario': 'iriitini'}\n"
     ]
    },
    {
     "name": "stderr",
     "output_type": "stream",
     "text": [
      "C:\\Users\\matia\\AppData\\Local\\Temp\\ipykernel_13540\\3099373608.py:32: FutureWarning: The frame.append method is deprecated and will be removed from pandas in a future version. Use pandas.concat instead.\n",
      "  df = df.append(data, ignore_index=True)\n"
     ]
    },
    {
     "name": "stdout",
     "output_type": "stream",
     "text": [
      "{'fecha': '20220621', 'texto': 'las vegas aprueba expandir el túnel de elon musk por toda la ciudad pero no lo pagarán los contribuyentes', 'usuario': 'vicentealmerich'}\n"
     ]
    },
    {
     "name": "stderr",
     "output_type": "stream",
     "text": [
      "C:\\Users\\matia\\AppData\\Local\\Temp\\ipykernel_13540\\3099373608.py:32: FutureWarning: The frame.append method is deprecated and will be removed from pandas in a future version. Use pandas.concat instead.\n",
      "  df = df.append(data, ignore_index=True)\n"
     ]
    },
    {
     "name": "stdout",
     "output_type": "stream",
     "text": [
      "{'fecha': '20220621', 'texto': 'elon musk le respondió a euric santi en el 2020 y a vladimir vargas en el 2022 cuál otro dominicano a logrado que elon le responda un tuit', 'usuario': 'marchemosverde'}\n"
     ]
    },
    {
     "name": "stderr",
     "output_type": "stream",
     "text": [
      "C:\\Users\\matia\\AppData\\Local\\Temp\\ipykernel_13540\\3099373608.py:32: FutureWarning: The frame.append method is deprecated and will be removed from pandas in a future version. Use pandas.concat instead.\n",
      "  df = df.append(data, ignore_index=True)\n"
     ]
    },
    {
     "name": "stdout",
     "output_type": "stream",
     "text": [
      "{'fecha': '20220621', 'texto': 'hija transgénero de elon musk cambia su nombre para terminar relación con su padre según tmz', 'usuario': 'sonpresente'}\n"
     ]
    },
    {
     "name": "stderr",
     "output_type": "stream",
     "text": [
      "C:\\Users\\matia\\AppData\\Local\\Temp\\ipykernel_13540\\3099373608.py:32: FutureWarning: The frame.append method is deprecated and will be removed from pandas in a future version. Use pandas.concat instead.\n",
      "  df = df.append(data, ignore_index=True)\n"
     ]
    },
    {
     "name": "stdout",
     "output_type": "stream",
     "text": [
      "{'fecha': '20220621', 'texto': 'caraca elon musk sabotando o menino everaldo', 'usuario': 'nic0oliveira'}\n"
     ]
    },
    {
     "name": "stderr",
     "output_type": "stream",
     "text": [
      "C:\\Users\\matia\\AppData\\Local\\Temp\\ipykernel_13540\\3099373608.py:32: FutureWarning: The frame.append method is deprecated and will be removed from pandas in a future version. Use pandas.concat instead.\n",
      "  df = df.append(data, ignore_index=True)\n"
     ]
    },
    {
     "name": "stdout",
     "output_type": "stream",
     "text": [
      "{'fecha': '20220621', 'texto': 'elon musk se eu te encontro na rua', 'usuario': 'eucarloshrq'}\n"
     ]
    },
    {
     "name": "stderr",
     "output_type": "stream",
     "text": [
      "C:\\Users\\matia\\AppData\\Local\\Temp\\ipykernel_13540\\3099373608.py:32: FutureWarning: The frame.append method is deprecated and will be removed from pandas in a future version. Use pandas.concat instead.\n",
      "  df = df.append(data, ignore_index=True)\n"
     ]
    },
    {
     "name": "stdout",
     "output_type": "stream",
     "text": [
      "{'fecha': '20220621', 'texto': 'de verdad me da demasiada intriga saber quien le maneja las redes sociales a elon musk', 'usuario': 'andrea marcano'}\n"
     ]
    },
    {
     "name": "stderr",
     "output_type": "stream",
     "text": [
      "C:\\Users\\matia\\AppData\\Local\\Temp\\ipykernel_13540\\3099373608.py:32: FutureWarning: The frame.append method is deprecated and will be removed from pandas in a future version. Use pandas.concat instead.\n",
      "  df = df.append(data, ignore_index=True)\n"
     ]
    },
    {
     "name": "stdout",
     "output_type": "stream",
     "text": [
      "{'fecha': '20220621', 'texto': 'yaningnoviecita deskansa en paz elon musk no te merece bv', 'usuario': 'yoshipija'}\n"
     ]
    },
    {
     "name": "stderr",
     "output_type": "stream",
     "text": [
      "C:\\Users\\matia\\AppData\\Local\\Temp\\ipykernel_13540\\3099373608.py:32: FutureWarning: The frame.append method is deprecated and will be removed from pandas in a future version. Use pandas.concat instead.\n",
      "  df = df.append(data, ignore_index=True)\n"
     ]
    },
    {
     "name": "stdout",
     "output_type": "stream",
     "text": [
      "{'fecha': '20220621', 'texto': 'sorprendentemente elon musk no ha tuiteado sobre su hija solicita cambiar su nombre para no llevar el apellido de su padre musk tampoco ha llamado nazi a xi jinping por los confinamientos en china aunque sí lo hizo con justina trudeau', 'usuario': 'pablopardo1'}\n"
     ]
    },
    {
     "name": "stderr",
     "output_type": "stream",
     "text": [
      "C:\\Users\\matia\\AppData\\Local\\Temp\\ipykernel_13540\\3099373608.py:32: FutureWarning: The frame.append method is deprecated and will be removed from pandas in a future version. Use pandas.concat instead.\n",
      "  df = df.append(data, ignore_index=True)\n"
     ]
    },
    {
     "name": "stdout",
     "output_type": "stream",
     "text": [
      "{'fecha': '20220621', 'texto': 'el hyperloop de elon musk es posible ¿qué tanto lo queremos', 'usuario': 'exomedios'}\n"
     ]
    },
    {
     "name": "stderr",
     "output_type": "stream",
     "text": [
      "C:\\Users\\matia\\AppData\\Local\\Temp\\ipykernel_13540\\3099373608.py:32: FutureWarning: The frame.append method is deprecated and will be removed from pandas in a future version. Use pandas.concat instead.\n",
      "  df = df.append(data, ignore_index=True)\n"
     ]
    },
    {
     "name": "stdout",
     "output_type": "stream",
     "text": [
      "{'fecha': '20220621', 'texto': 'alguno con el contacto de elon musk para pedirle que por favor me cierre el twitter a la esa que gracias', 'usuario': 'ablazedmind'}\n"
     ]
    },
    {
     "name": "stderr",
     "output_type": "stream",
     "text": [
      "C:\\Users\\matia\\AppData\\Local\\Temp\\ipykernel_13540\\3099373608.py:32: FutureWarning: The frame.append method is deprecated and will be removed from pandas in a future version. Use pandas.concat instead.\n",
      "  df = df.append(data, ignore_index=True)\n"
     ]
    },
    {
     "name": "stdout",
     "output_type": "stream",
     "text": [
      "{'fecha': '20220621', 'texto': 'es elon musk', 'usuario': 'magical0800'}\n"
     ]
    },
    {
     "name": "stderr",
     "output_type": "stream",
     "text": [
      "C:\\Users\\matia\\AppData\\Local\\Temp\\ipykernel_13540\\3099373608.py:32: FutureWarning: The frame.append method is deprecated and will be removed from pandas in a future version. Use pandas.concat instead.\n",
      "  df = df.append(data, ignore_index=True)\n"
     ]
    },
    {
     "name": "stdout",
     "output_type": "stream",
     "text": [
      "{'fecha': '20220621', 'texto': 'las vegas aprueba expandir el túnel de elon musk por toda la ciudad pero no lo pagarán los contribuyentes', 'usuario': 'gizmodoes'}\n"
     ]
    },
    {
     "name": "stderr",
     "output_type": "stream",
     "text": [
      "C:\\Users\\matia\\AppData\\Local\\Temp\\ipykernel_13540\\3099373608.py:32: FutureWarning: The frame.append method is deprecated and will be removed from pandas in a future version. Use pandas.concat instead.\n",
      "  df = df.append(data, ignore_index=True)\n"
     ]
    },
    {
     "name": "stdout",
     "output_type": "stream",
     "text": [
      "{'fecha': '20220621', 'texto': 'quizás en twitter hasta que lo compre elon musk agurrrrrrrrrrrr', 'usuario': 'beckskawai'}\n"
     ]
    },
    {
     "name": "stderr",
     "output_type": "stream",
     "text": [
      "C:\\Users\\matia\\AppData\\Local\\Temp\\ipykernel_13540\\3099373608.py:32: FutureWarning: The frame.append method is deprecated and will be removed from pandas in a future version. Use pandas.concat instead.\n",
      "  df = df.append(data, ignore_index=True)\n"
     ]
    },
    {
     "name": "stdout",
     "output_type": "stream",
     "text": [
      "{'fecha': '20220621', 'texto': 'esto lo de ibo llanos y quiere comprarlo elon musk yo flipo', 'usuario': 'pedodimono'}\n"
     ]
    },
    {
     "name": "stderr",
     "output_type": "stream",
     "text": [
      "C:\\Users\\matia\\AppData\\Local\\Temp\\ipykernel_13540\\3099373608.py:32: FutureWarning: The frame.append method is deprecated and will be removed from pandas in a future version. Use pandas.concat instead.\n",
      "  df = df.append(data, ignore_index=True)\n"
     ]
    },
    {
     "name": "stdout",
     "output_type": "stream",
     "text": [
      "{'fecha': '20220621', 'texto': 'las vegas aprueba expandir el túnel de elon musk por toda la ciudad pero no lo pagarán los contribuyentes', 'usuario': 'iphone13vzla'}\n"
     ]
    },
    {
     "name": "stderr",
     "output_type": "stream",
     "text": [
      "C:\\Users\\matia\\AppData\\Local\\Temp\\ipykernel_13540\\3099373608.py:32: FutureWarning: The frame.append method is deprecated and will be removed from pandas in a future version. Use pandas.concat instead.\n",
      "  df = df.append(data, ignore_index=True)\n"
     ]
    },
    {
     "name": "stdout",
     "output_type": "stream",
     "text": [
      "{'fecha': '20220621', 'texto': 'el hyperloop de elon musk es posible ¿qué tanto lo queremos', 'usuario': 'hiperenlazados'}\n"
     ]
    },
    {
     "name": "stderr",
     "output_type": "stream",
     "text": [
      "C:\\Users\\matia\\AppData\\Local\\Temp\\ipykernel_13540\\3099373608.py:32: FutureWarning: The frame.append method is deprecated and will be removed from pandas in a future version. Use pandas.concat instead.\n",
      "  df = df.append(data, ignore_index=True)\n"
     ]
    },
    {
     "name": "stdout",
     "output_type": "stream",
     "text": [
      "{'fecha': '20220621', 'texto': 'elon the dogefather elon es un empresario fundador del gigante productor de coches eléctricos tesla cofundador de paypal spacex hyperloop solarcity the boring company neuralink y openai', 'usuario': 'lalocripto'}\n"
     ]
    },
    {
     "name": "stderr",
     "output_type": "stream",
     "text": [
      "C:\\Users\\matia\\AppData\\Local\\Temp\\ipykernel_13540\\3099373608.py:32: FutureWarning: The frame.append method is deprecated and will be removed from pandas in a future version. Use pandas.concat instead.\n",
      "  df = df.append(data, ignore_index=True)\n"
     ]
    },
    {
     "name": "stdout",
     "output_type": "stream",
     "text": [
      "{'fecha': '20220621', 'texto': 'cómo suelen decir a veces lo que más odias te toca en tu propia familia por eso es importante tolerar y aceptar ningún tipo de amor es mejor que otro', 'usuario': 'rolandojvivas'}\n"
     ]
    },
    {
     "name": "stderr",
     "output_type": "stream",
     "text": [
      "C:\\Users\\matia\\AppData\\Local\\Temp\\ipykernel_13540\\3099373608.py:32: FutureWarning: The frame.append method is deprecated and will be removed from pandas in a future version. Use pandas.concat instead.\n",
      "  df = df.append(data, ignore_index=True)\n"
     ]
    },
    {
     "name": "stdout",
     "output_type": "stream",
     "text": [
      "{'fecha': '20220621', 'texto': 'forma número cuatro ser elon musk', 'usuario': 'vgl0'}\n"
     ]
    },
    {
     "name": "stderr",
     "output_type": "stream",
     "text": [
      "C:\\Users\\matia\\AppData\\Local\\Temp\\ipykernel_13540\\3099373608.py:32: FutureWarning: The frame.append method is deprecated and will be removed from pandas in a future version. Use pandas.concat instead.\n",
      "  df = df.append(data, ignore_index=True)\n"
     ]
    },
    {
     "name": "stdout",
     "output_type": "stream",
     "text": [
      "{'fecha': '20220621', 'texto': 'influencer llaman hoy en dia a cualquier cosa influencer elon musk albert einsten nicolas tesla personas que con su pensar y actuar cambian al mundo', 'usuario': 'dssurferreteria'}\n"
     ]
    },
    {
     "name": "stderr",
     "output_type": "stream",
     "text": [
      "C:\\Users\\matia\\AppData\\Local\\Temp\\ipykernel_13540\\3099373608.py:32: FutureWarning: The frame.append method is deprecated and will be removed from pandas in a future version. Use pandas.concat instead.\n",
      "  df = df.append(data, ignore_index=True)\n"
     ]
    },
    {
     "name": "stdout",
     "output_type": "stream",
     "text": [
      "{'fecha': '20220621', 'texto': 'uno ve a elon musk entablando diálogos o respondiendo a preguntas o criticas a virtualmente cualquier persona basado únicamente en la relevancia del argumento sin pedir credenciales muchos políticos no lo hacen', 'usuario': 'murodepiedra'}\n"
     ]
    },
    {
     "name": "stderr",
     "output_type": "stream",
     "text": [
      "C:\\Users\\matia\\AppData\\Local\\Temp\\ipykernel_13540\\3099373608.py:32: FutureWarning: The frame.append method is deprecated and will be removed from pandas in a future version. Use pandas.concat instead.\n",
      "  df = df.append(data, ignore_index=True)\n"
     ]
    },
    {
     "name": "stdout",
     "output_type": "stream",
     "text": [
      "{'fecha': '20220621', 'texto': '#felizlunes yo pienso que es posible para las personas ordinarias ser extraordinarias elon musk', 'usuario': 'lfinanciera1'}\n"
     ]
    },
    {
     "name": "stderr",
     "output_type": "stream",
     "text": [
      "C:\\Users\\matia\\AppData\\Local\\Temp\\ipykernel_13540\\3099373608.py:32: FutureWarning: The frame.append method is deprecated and will be removed from pandas in a future version. Use pandas.concat instead.\n",
      "  df = df.append(data, ignore_index=True)\n"
     ]
    },
    {
     "name": "stdout",
     "output_type": "stream",
     "text": [
      "{'fecha': '20220621', 'texto': '¿por qué insisten en colocarse el adjetivo de afrodescendiente por su color de piel los afrodescendientes son los hijos nacidos de emigrantes africanos pero no tendría que ver con color los marroquíes son africanos y no son negros los argelinos también elon musk es africano', 'usuario': 'nilootro'}\n"
     ]
    },
    {
     "name": "stderr",
     "output_type": "stream",
     "text": [
      "C:\\Users\\matia\\AppData\\Local\\Temp\\ipykernel_13540\\3099373608.py:32: FutureWarning: The frame.append method is deprecated and will be removed from pandas in a future version. Use pandas.concat instead.\n",
      "  df = df.append(data, ignore_index=True)\n"
     ]
    },
    {
     "name": "stdout",
     "output_type": "stream",
     "text": [
      "{'fecha': '20220621', 'texto': 'hija transgénero de elon musk xavier musk solicita cambiar su no deseo estar asociado con mi padre biológico a través de', 'usuario': 'elimparcialcom'}\n"
     ]
    },
    {
     "name": "stderr",
     "output_type": "stream",
     "text": [
      "C:\\Users\\matia\\AppData\\Local\\Temp\\ipykernel_13540\\3099373608.py:32: FutureWarning: The frame.append method is deprecated and will be removed from pandas in a future version. Use pandas.concat instead.\n",
      "  df = df.append(data, ignore_index=True)\n"
     ]
    },
    {
     "name": "stdout",
     "output_type": "stream",
     "text": [
      "{'fecha': '20220621', 'texto': 'el hyperloop de elon musk es posible ¿qué tanto lo queremos', 'usuario': 'losarticulistas'}\n"
     ]
    },
    {
     "name": "stderr",
     "output_type": "stream",
     "text": [
      "C:\\Users\\matia\\AppData\\Local\\Temp\\ipykernel_13540\\3099373608.py:32: FutureWarning: The frame.append method is deprecated and will be removed from pandas in a future version. Use pandas.concat instead.\n",
      "  df = df.append(data, ignore_index=True)\n"
     ]
    },
    {
     "name": "stdout",
     "output_type": "stream",
     "text": [
      "{'fecha': '20220621', 'texto': 'spacex despide a empleados por críticas a elon musk', 'usuario': 'informativoet'}\n"
     ]
    },
    {
     "name": "stderr",
     "output_type": "stream",
     "text": [
      "C:\\Users\\matia\\AppData\\Local\\Temp\\ipykernel_13540\\3099373608.py:32: FutureWarning: The frame.append method is deprecated and will be removed from pandas in a future version. Use pandas.concat instead.\n",
      "  df = df.append(data, ignore_index=True)\n"
     ]
    },
    {
     "name": "stdout",
     "output_type": "stream",
     "text": [
      "{'fecha': '20220621', 'texto': 'la hija de elon musk cambia de nombre y apunta a su no quiero estar relacionada con él', 'usuario': 'pagina12'}\n"
     ]
    },
    {
     "name": "stderr",
     "output_type": "stream",
     "text": [
      "C:\\Users\\matia\\AppData\\Local\\Temp\\ipykernel_13540\\3099373608.py:32: FutureWarning: The frame.append method is deprecated and will be removed from pandas in a future version. Use pandas.concat instead.\n",
      "  df = df.append(data, ignore_index=True)\n"
     ]
    },
    {
     "name": "stdout",
     "output_type": "stream",
     "text": [
      "{'fecha': '20220621', 'texto': 'el hyperloop de elon musk es posible ¿qué tanto lo queremos', 'usuario': 'multigaceta'}\n"
     ]
    },
    {
     "name": "stderr",
     "output_type": "stream",
     "text": [
      "C:\\Users\\matia\\AppData\\Local\\Temp\\ipykernel_13540\\3099373608.py:32: FutureWarning: The frame.append method is deprecated and will be removed from pandas in a future version. Use pandas.concat instead.\n",
      "  df = df.append(data, ignore_index=True)\n"
     ]
    },
    {
     "name": "stdout",
     "output_type": "stream",
     "text": [
      "{'fecha': '20220621', 'texto': 'que una de las hijas de elon musk haya salido del clóset como una mujer trans en simplemente lo más gracioso q ví en mi vida', 'usuario': 'gerardmilf'}\n"
     ]
    },
    {
     "name": "stderr",
     "output_type": "stream",
     "text": [
      "C:\\Users\\matia\\AppData\\Local\\Temp\\ipykernel_13540\\3099373608.py:32: FutureWarning: The frame.append method is deprecated and will be removed from pandas in a future version. Use pandas.concat instead.\n",
      "  df = df.append(data, ignore_index=True)\n"
     ]
    },
    {
     "name": "stdout",
     "output_type": "stream",
     "text": [
      "{'fecha': '20220621', 'texto': '#dogecoin se dispara en torno al 9 después de que #elonmusk dijera que seguirá apoyando la #criptodivisa', 'usuario': 'cripto media'}\n"
     ]
    },
    {
     "name": "stderr",
     "output_type": "stream",
     "text": [
      "C:\\Users\\matia\\AppData\\Local\\Temp\\ipykernel_13540\\3099373608.py:32: FutureWarning: The frame.append method is deprecated and will be removed from pandas in a future version. Use pandas.concat instead.\n",
      "  df = df.append(data, ignore_index=True)\n"
     ]
    },
    {
     "name": "stdout",
     "output_type": "stream",
     "text": [
      "{'fecha': '20220621', 'texto': '¿me veré mal si le respondo a elon musk cual es mi queso favorito el quesobadon jajajaja', 'usuario': 'litzia'}\n"
     ]
    },
    {
     "name": "stderr",
     "output_type": "stream",
     "text": [
      "C:\\Users\\matia\\AppData\\Local\\Temp\\ipykernel_13540\\3099373608.py:32: FutureWarning: The frame.append method is deprecated and will be removed from pandas in a future version. Use pandas.concat instead.\n",
      "  df = df.append(data, ignore_index=True)\n"
     ]
    },
    {
     "name": "stdout",
     "output_type": "stream",
     "text": [
      "{'fecha': '20220621', 'texto': 'hija transgénero de elon musk cambia su nombre', 'usuario': 'pulso mx'}\n"
     ]
    },
    {
     "name": "stderr",
     "output_type": "stream",
     "text": [
      "C:\\Users\\matia\\AppData\\Local\\Temp\\ipykernel_13540\\3099373608.py:32: FutureWarning: The frame.append method is deprecated and will be removed from pandas in a future version. Use pandas.concat instead.\n",
      "  df = df.append(data, ignore_index=True)\n"
     ]
    },
    {
     "name": "stdout",
     "output_type": "stream",
     "text": [
      "{'fecha': '20220621', 'texto': 'jajjjajajajajjajajajajajajjajajah elon musk debe estar babeando por comprarte tus dos pinches empresas jajajajajjajajajajjajajajaja', 'usuario': 'lagongoracami'}\n"
     ]
    },
    {
     "name": "stderr",
     "output_type": "stream",
     "text": [
      "C:\\Users\\matia\\AppData\\Local\\Temp\\ipykernel_13540\\3099373608.py:32: FutureWarning: The frame.append method is deprecated and will be removed from pandas in a future version. Use pandas.concat instead.\n",
      "  df = df.append(data, ignore_index=True)\n"
     ]
    },
    {
     "name": "stdout",
     "output_type": "stream",
     "text": [
      "{'fecha': '20220621', 'texto': 'pienso que elon musk no apoyara a trump pero si votara republicano despues de decir q no dara su voto a los democratas pienso q su apoyo sera para el gobernador de la florida desantis aunque el gobernador no ha dado indicios de querer ser candidato presidencial tiene apoyo', 'usuario': 'mrspider202'}\n"
     ]
    },
    {
     "name": "stderr",
     "output_type": "stream",
     "text": [
      "C:\\Users\\matia\\AppData\\Local\\Temp\\ipykernel_13540\\3099373608.py:32: FutureWarning: The frame.append method is deprecated and will be removed from pandas in a future version. Use pandas.concat instead.\n",
      "  df = df.append(data, ignore_index=True)\n"
     ]
    },
    {
     "name": "stdout",
     "output_type": "stream",
     "text": [
      "{'fecha': '20220621', 'texto': 'el hyperloop de elon musk es posible ¿qué tanto lo queremos', 'usuario': 'teactualizas'}\n"
     ]
    },
    {
     "name": "stderr",
     "output_type": "stream",
     "text": [
      "C:\\Users\\matia\\AppData\\Local\\Temp\\ipykernel_13540\\3099373608.py:32: FutureWarning: The frame.append method is deprecated and will be removed from pandas in a future version. Use pandas.concat instead.\n",
      "  df = df.append(data, ignore_index=True)\n"
     ]
    },
    {
     "name": "stdout",
     "output_type": "stream",
     "text": [
      "{'fecha': '20220621', 'texto': 'elon musk echó a ciertos empleados por censurar opiniones abiertamente de derechas hasta incluso lo reconocían claro la cuenta de trump no creo que haya echado a alguien por estar en contra de su opinión eso es estúpido', 'usuario': 'tomasmazzarella'}\n"
     ]
    },
    {
     "name": "stderr",
     "output_type": "stream",
     "text": [
      "C:\\Users\\matia\\AppData\\Local\\Temp\\ipykernel_13540\\3099373608.py:32: FutureWarning: The frame.append method is deprecated and will be removed from pandas in a future version. Use pandas.concat instead.\n",
      "  df = df.append(data, ignore_index=True)\n"
     ]
    },
    {
     "name": "stdout",
     "output_type": "stream",
     "text": [
      "{'fecha': '20220621', 'texto': 'jajaja elon musk chupapijas el hombre es en definitiva irremplazable seguí intentándolo igual', 'usuario': 'marcosbbaldo'}\n"
     ]
    },
    {
     "name": "stderr",
     "output_type": "stream",
     "text": [
      "C:\\Users\\matia\\AppData\\Local\\Temp\\ipykernel_13540\\3099373608.py:32: FutureWarning: The frame.append method is deprecated and will be removed from pandas in a future version. Use pandas.concat instead.\n",
      "  df = df.append(data, ignore_index=True)\n"
     ]
    },
    {
     "name": "stdout",
     "output_type": "stream",
     "text": [
      "{'fecha': '20220621', 'texto': 'hasta que no salga un anuncio de elon musk enfadado no paro', 'usuario': 'marcremastered'}\n"
     ]
    },
    {
     "name": "stderr",
     "output_type": "stream",
     "text": [
      "C:\\Users\\matia\\AppData\\Local\\Temp\\ipykernel_13540\\3099373608.py:32: FutureWarning: The frame.append method is deprecated and will be removed from pandas in a future version. Use pandas.concat instead.\n",
      "  df = df.append(data, ignore_index=True)\n"
     ]
    },
    {
     "name": "stdout",
     "output_type": "stream",
     "text": [
      "{'fecha': '20220621', 'texto': 'con usted están haciendo pruebas piloto porque elon musk no permite que lo sigan', 'usuario': 'socifono'}\n"
     ]
    },
    {
     "name": "stderr",
     "output_type": "stream",
     "text": [
      "C:\\Users\\matia\\AppData\\Local\\Temp\\ipykernel_13540\\3099373608.py:32: FutureWarning: The frame.append method is deprecated and will be removed from pandas in a future version. Use pandas.concat instead.\n",
      "  df = df.append(data, ignore_index=True)\n"
     ]
    },
    {
     "name": "stdout",
     "output_type": "stream",
     "text": [
      "{'fecha': '20220621', 'texto': 'tomara que hackeiem e apareca live do elon musk vendendo bitcoin', 'usuario': 'idlikecoffee1'}\n"
     ]
    },
    {
     "name": "stderr",
     "output_type": "stream",
     "text": [
      "C:\\Users\\matia\\AppData\\Local\\Temp\\ipykernel_13540\\3099373608.py:32: FutureWarning: The frame.append method is deprecated and will be removed from pandas in a future version. Use pandas.concat instead.\n",
      "  df = df.append(data, ignore_index=True)\n"
     ]
    },
    {
     "name": "stdout",
     "output_type": "stream",
     "text": [
      "{'fecha': '20220621', 'texto': 'sus temores resultaron ser creíbles ya que la gerencia de spacex terminó despidiendo al menos a cinco empleados #spacex #noticias #elonmusk', 'usuario': 'darlinxpro'}\n"
     ]
    },
    {
     "name": "stderr",
     "output_type": "stream",
     "text": [
      "C:\\Users\\matia\\AppData\\Local\\Temp\\ipykernel_13540\\3099373608.py:32: FutureWarning: The frame.append method is deprecated and will be removed from pandas in a future version. Use pandas.concat instead.\n",
      "  df = df.append(data, ignore_index=True)\n"
     ]
    },
    {
     "name": "stdout",
     "output_type": "stream",
     "text": [
      "{'fecha': '20220621', 'texto': '#entérate ser pareja de uno de los empresarios más ricos del mundo puede parecer una idea atractiva pero exparejas de elon musk aseguran es una pesadilla ¿cuáles son los motivos', 'usuario': 'eleconomistanet'}\n"
     ]
    },
    {
     "name": "stderr",
     "output_type": "stream",
     "text": [
      "C:\\Users\\matia\\AppData\\Local\\Temp\\ipykernel_13540\\3099373608.py:32: FutureWarning: The frame.append method is deprecated and will be removed from pandas in a future version. Use pandas.concat instead.\n",
      "  df = df.append(data, ignore_index=True)\n"
     ]
    },
    {
     "name": "stdout",
     "output_type": "stream",
     "text": [
      "{'fecha': '20220621', 'texto': 'hace pocos días se filtró una serie de emails en los que elon musk ceo de tesla les exigía a sus empleados que regresen a trabajar presencialmente a las oficinas o renuncien a la compañía como #tech #technology #technews #programming #software', 'usuario': 'hatprogrammers'}\n"
     ]
    },
    {
     "name": "stderr",
     "output_type": "stream",
     "text": [
      "C:\\Users\\matia\\AppData\\Local\\Temp\\ipykernel_13540\\3099373608.py:32: FutureWarning: The frame.append method is deprecated and will be removed from pandas in a future version. Use pandas.concat instead.\n",
      "  df = df.append(data, ignore_index=True)\n"
     ]
    },
    {
     "name": "stdout",
     "output_type": "stream",
     "text": [
      "{'fecha': '20220621', 'texto': 'demandan a elon musk con 258 000 mdd por esquema piramidal de dogecoin #mexico #youtubers #usa #eeuu #acciones #noticias #cdmx #politics #amlo #politica #alerta #abrelosojos #nuevoleon #gdl #jalisco #estados #nacional #zócalo #periodista', 'usuario': 'cpabogadossc'}\n"
     ]
    },
    {
     "name": "stderr",
     "output_type": "stream",
     "text": [
      "C:\\Users\\matia\\AppData\\Local\\Temp\\ipykernel_13540\\3099373608.py:32: FutureWarning: The frame.append method is deprecated and will be removed from pandas in a future version. Use pandas.concat instead.\n",
      "  df = df.append(data, ignore_index=True)\n"
     ]
    },
    {
     "name": "stdout",
     "output_type": "stream",
     "text": [
      "{'fecha': '20220621', 'texto': 'elon musk el genio de la tecnología que trabaja sin descanso', 'usuario': 'aguasneutrales'}\n"
     ]
    },
    {
     "name": "stderr",
     "output_type": "stream",
     "text": [
      "C:\\Users\\matia\\AppData\\Local\\Temp\\ipykernel_13540\\3099373608.py:32: FutureWarning: The frame.append method is deprecated and will be removed from pandas in a future version. Use pandas.concat instead.\n",
      "  df = df.append(data, ignore_index=True)\n"
     ]
    },
    {
     "name": "stdout",
     "output_type": "stream",
     "text": [
      "{'fecha': '20220621', 'texto': 'vamos elon musk', 'usuario': 'valdirhgomes'}\n"
     ]
    },
    {
     "name": "stderr",
     "output_type": "stream",
     "text": [
      "C:\\Users\\matia\\AppData\\Local\\Temp\\ipykernel_13540\\3099373608.py:32: FutureWarning: The frame.append method is deprecated and will be removed from pandas in a future version. Use pandas.concat instead.\n",
      "  df = df.append(data, ignore_index=True)\n"
     ]
    },
    {
     "name": "stdout",
     "output_type": "stream",
     "text": [
      "{'fecha': '20220621', 'texto': 'ya a recordarnos su amistad con elon musk cjodpckd', 'usuario': 'sillygod disco'}\n"
     ]
    },
    {
     "name": "stderr",
     "output_type": "stream",
     "text": [
      "C:\\Users\\matia\\AppData\\Local\\Temp\\ipykernel_13540\\3099373608.py:32: FutureWarning: The frame.append method is deprecated and will be removed from pandas in a future version. Use pandas.concat instead.\n",
      "  df = df.append(data, ignore_index=True)\n"
     ]
    },
    {
     "name": "stdout",
     "output_type": "stream",
     "text": [
      "{'fecha': '20220621', 'texto': 'el hijo de elon musk solicita un cambio de género y nombre para terminar la relación con su padre bruno elon musks son files to change gender name to end relationship with father', 'usuario': 'brunoromero'}\n"
     ]
    },
    {
     "name": "stderr",
     "output_type": "stream",
     "text": [
      "C:\\Users\\matia\\AppData\\Local\\Temp\\ipykernel_13540\\3099373608.py:32: FutureWarning: The frame.append method is deprecated and will be removed from pandas in a future version. Use pandas.concat instead.\n",
      "  df = df.append(data, ignore_index=True)\n"
     ]
    },
    {
     "name": "stdout",
     "output_type": "stream",
     "text": [
      "{'fecha': '20220621', 'texto': 'el hyperloop de elon musk es posible ¿qué tanto lo queremos', 'usuario': 'tuitreportes'}\n"
     ]
    },
    {
     "name": "stderr",
     "output_type": "stream",
     "text": [
      "C:\\Users\\matia\\AppData\\Local\\Temp\\ipykernel_13540\\3099373608.py:32: FutureWarning: The frame.append method is deprecated and will be removed from pandas in a future version. Use pandas.concat instead.\n",
      "  df = df.append(data, ignore_index=True)\n"
     ]
    },
    {
     "name": "stdout",
     "output_type": "stream",
     "text": [
      "{'fecha': '20220621', 'texto': 'twitter fue comprado por elon musk y ahora cambiarán las políticas de la empresa de ahora en adelante ellos tienen acceso a tu galería si quieres evitar esto copia y pega este mensaje y reenvíalo a 10 amigos para que no entres en la lista negra no lo autorizo sr musk', 'usuario': 'hwamystar'}\n"
     ]
    },
    {
     "name": "stderr",
     "output_type": "stream",
     "text": [
      "C:\\Users\\matia\\AppData\\Local\\Temp\\ipykernel_13540\\3099373608.py:32: FutureWarning: The frame.append method is deprecated and will be removed from pandas in a future version. Use pandas.concat instead.\n",
      "  df = df.append(data, ignore_index=True)\n"
     ]
    },
    {
     "name": "stdout",
     "output_type": "stream",
     "text": [
      "{'fecha': '20220621', 'texto': 'elon musk y sus empresas spacex y tesla fueron demandados por 258 000 millones de dólares en daños de un supuesto plan de estafa piramidal para respaldar a la criptomoneda', 'usuario': 'insurgentepress'}\n"
     ]
    },
    {
     "name": "stderr",
     "output_type": "stream",
     "text": [
      "C:\\Users\\matia\\AppData\\Local\\Temp\\ipykernel_13540\\3099373608.py:32: FutureWarning: The frame.append method is deprecated and will be removed from pandas in a future version. Use pandas.concat instead.\n",
      "  df = df.append(data, ignore_index=True)\n"
     ]
    },
    {
     "name": "stdout",
     "output_type": "stream",
     "text": [
      "{'fecha': '20220621', 'texto': 'esta semana ha estado movida en el terreno de la tecnología la noticia más sonada es el adiós a internet explorer después de 27 años dynatrace la empresa de software ha presentado la aplicación openfeature', 'usuario': 'impactotic'}\n"
     ]
    },
    {
     "name": "stderr",
     "output_type": "stream",
     "text": [
      "C:\\Users\\matia\\AppData\\Local\\Temp\\ipykernel_13540\\3099373608.py:32: FutureWarning: The frame.append method is deprecated and will be removed from pandas in a future version. Use pandas.concat instead.\n",
      "  df = df.append(data, ignore_index=True)\n"
     ]
    },
    {
     "name": "stdout",
     "output_type": "stream",
     "text": [
      "{'fecha': '20220621', 'texto': 'urge ver este tipo de noticias inundar la web pero no cualquier otra cosa es mas importante la prensa tiene unas prioridades lamentables gente como elon musk deberia invertir su plata en este tipo de emprendimientos y no gastar tanta plata en comprar esta red social', 'usuario': 'yurak'}\n"
     ]
    },
    {
     "name": "stderr",
     "output_type": "stream",
     "text": [
      "C:\\Users\\matia\\AppData\\Local\\Temp\\ipykernel_13540\\3099373608.py:32: FutureWarning: The frame.append method is deprecated and will be removed from pandas in a future version. Use pandas.concat instead.\n",
      "  df = df.append(data, ignore_index=True)\n"
     ]
    },
    {
     "name": "stdout",
     "output_type": "stream",
     "text": [
      "{'fecha': '20220621', 'texto': 'elon musk sigue comprando dogecoin a pesar del colapso su precio sube un 4', 'usuario': 'bv socialmedia'}\n"
     ]
    },
    {
     "name": "stderr",
     "output_type": "stream",
     "text": [
      "C:\\Users\\matia\\AppData\\Local\\Temp\\ipykernel_13540\\3099373608.py:32: FutureWarning: The frame.append method is deprecated and will be removed from pandas in a future version. Use pandas.concat instead.\n",
      "  df = df.append(data, ignore_index=True)\n"
     ]
    },
    {
     "name": "stdout",
     "output_type": "stream",
     "text": [
      "{'fecha': '20220621', 'texto': 'elon musk expulsa ela de novo', 'usuario': 'guilher46000375'}\n"
     ]
    },
    {
     "name": "stderr",
     "output_type": "stream",
     "text": [
      "C:\\Users\\matia\\AppData\\Local\\Temp\\ipykernel_13540\\3099373608.py:32: FutureWarning: The frame.append method is deprecated and will be removed from pandas in a future version. Use pandas.concat instead.\n",
      "  df = df.append(data, ignore_index=True)\n"
     ]
    },
    {
     "name": "stdout",
     "output_type": "stream",
     "text": [
      "{'fecha': '20220621', 'texto': 'que buena noticia estos seudoexpresidentes eran simples presidentes pero ahora viven como elon musk son millonarios con acciones y casas y plata por todos lados ahora se entiende el problema de chile', 'usuario': 'jona63317941'}\n"
     ]
    },
    {
     "name": "stderr",
     "output_type": "stream",
     "text": [
      "C:\\Users\\matia\\AppData\\Local\\Temp\\ipykernel_13540\\3099373608.py:32: FutureWarning: The frame.append method is deprecated and will be removed from pandas in a future version. Use pandas.concat instead.\n",
      "  df = df.append(data, ignore_index=True)\n"
     ]
    },
    {
     "name": "stdout",
     "output_type": "stream",
     "text": [
      "{'fecha': '20220621', 'texto': 'elon musk enfrenta demanda millonaria por haber promovido una criptomoneda', 'usuario': 'vduranjs1'}\n"
     ]
    },
    {
     "name": "stderr",
     "output_type": "stream",
     "text": [
      "C:\\Users\\matia\\AppData\\Local\\Temp\\ipykernel_13540\\3099373608.py:32: FutureWarning: The frame.append method is deprecated and will be removed from pandas in a future version. Use pandas.concat instead.\n",
      "  df = df.append(data, ignore_index=True)\n"
     ]
    },
    {
     "name": "stdout",
     "output_type": "stream",
     "text": [
      "{'fecha': '20220621', 'texto': 'elon musk dijo q en tuiter iba a ver libertad d expresion hay represión total d ideas y pensamientos populares', 'usuario': 'elsamartnez17'}\n"
     ]
    },
    {
     "name": "stderr",
     "output_type": "stream",
     "text": [
      "C:\\Users\\matia\\AppData\\Local\\Temp\\ipykernel_13540\\3099373608.py:32: FutureWarning: The frame.append method is deprecated and will be removed from pandas in a future version. Use pandas.concat instead.\n",
      "  df = df.append(data, ignore_index=True)\n"
     ]
    },
    {
     "name": "stdout",
     "output_type": "stream",
     "text": [
      "{'fecha': '20220621', 'texto': '¿despidos en twitter el claro mensaje que envió elon musk a sus empleados', 'usuario': 'alnaviocom'}\n"
     ]
    },
    {
     "name": "stderr",
     "output_type": "stream",
     "text": [
      "C:\\Users\\matia\\AppData\\Local\\Temp\\ipykernel_13540\\3099373608.py:32: FutureWarning: The frame.append method is deprecated and will be removed from pandas in a future version. Use pandas.concat instead.\n",
      "  df = df.append(data, ignore_index=True)\n"
     ]
    },
    {
     "name": "stdout",
     "output_type": "stream",
     "text": [
      "{'fecha': '20220621', 'texto': 'twitter fue comprado por elon musk y ahora cambiarán las políticas de la empresa de ahora en adelante ellos tienen acceso a tu galería si quieres evitar esto copia y pega este mensaje y reenvíalo a 10 amigos para que no entres en la lista negra no lo autorizo sr musk', 'usuario': 'hwamystar'}\n"
     ]
    },
    {
     "name": "stderr",
     "output_type": "stream",
     "text": [
      "C:\\Users\\matia\\AppData\\Local\\Temp\\ipykernel_13540\\3099373608.py:32: FutureWarning: The frame.append method is deprecated and will be removed from pandas in a future version. Use pandas.concat instead.\n",
      "  df = df.append(data, ignore_index=True)\n"
     ]
    },
    {
     "name": "stdout",
     "output_type": "stream",
     "text": [
      "{'fecha': '20220621', 'texto': 'en el capitalismo actual los trabajadores pueden valer mucho por obra del mercado elon musk aseguró hace unas semanas que el 10 de la plantilla de tesla debía ser despedida pero quizás no le haga falta echar a nadie ya que sus empleados se están yendo', 'usuario': 'wreynagavas'}\n"
     ]
    },
    {
     "name": "stderr",
     "output_type": "stream",
     "text": [
      "C:\\Users\\matia\\AppData\\Local\\Temp\\ipykernel_13540\\3099373608.py:32: FutureWarning: The frame.append method is deprecated and will be removed from pandas in a future version. Use pandas.concat instead.\n",
      "  df = df.append(data, ignore_index=True)\n"
     ]
    },
    {
     "name": "stdout",
     "output_type": "stream",
     "text": [
      "{'fecha': '20220621', 'texto': 'y falto decir que la culpa tambien era de franco del volcan de canarias del cambio climatico del virus del mono de la caló del terremoto con ideologia de genero de freezer de los 3 de las azores del pegasus y de almeida y que no se nos olvide de elon musk', 'usuario': 'diegodelaballi1'}\n"
     ]
    },
    {
     "name": "stderr",
     "output_type": "stream",
     "text": [
      "C:\\Users\\matia\\AppData\\Local\\Temp\\ipykernel_13540\\3099373608.py:32: FutureWarning: The frame.append method is deprecated and will be removed from pandas in a future version. Use pandas.concat instead.\n",
      "  df = df.append(data, ignore_index=True)\n"
     ]
    },
    {
     "name": "stdout",
     "output_type": "stream",
     "text": [
      "{'fecha': '20220621', 'texto': 'twitter fue comprado por elon musk y ahora cambiarán las políticas de la empresa de ahora en adelante ellos tienen acceso a tu galería si quieres evitar esto copia y pega este mensaje y reenvíalo a 10 amigos para que no entres en la lista negra no lo autorizo sr musk', 'usuario': 'hwamystar'}\n"
     ]
    },
    {
     "name": "stderr",
     "output_type": "stream",
     "text": [
      "C:\\Users\\matia\\AppData\\Local\\Temp\\ipykernel_13540\\3099373608.py:32: FutureWarning: The frame.append method is deprecated and will be removed from pandas in a future version. Use pandas.concat instead.\n",
      "  df = df.append(data, ignore_index=True)\n"
     ]
    },
    {
     "name": "stdout",
     "output_type": "stream",
     "text": [
      "{'fecha': '20220621', 'texto': 'twitter fue comprado por elon musk y ahora cambiarán las políticas de la empresa de ahora en adelante ellos tienen acceso a tu galería si quieres evitar esto copia y pega este mensaje y reenvíalo a 10 amigos para que no entres en la lista negra no lo autorizo sr musk', 'usuario': 'swdiep'}\n"
     ]
    },
    {
     "name": "stderr",
     "output_type": "stream",
     "text": [
      "C:\\Users\\matia\\AppData\\Local\\Temp\\ipykernel_13540\\3099373608.py:32: FutureWarning: The frame.append method is deprecated and will be removed from pandas in a future version. Use pandas.concat instead.\n",
      "  df = df.append(data, ignore_index=True)\n"
     ]
    },
    {
     "name": "stdout",
     "output_type": "stream",
     "text": [
      "{'fecha': '20220621', 'texto': 'ojalá que elon musk elimine la cuenta de todos estos bots trolls', 'usuario': 'bagnatosantino'}\n"
     ]
    },
    {
     "name": "stderr",
     "output_type": "stream",
     "text": [
      "C:\\Users\\matia\\AppData\\Local\\Temp\\ipykernel_13540\\3099373608.py:32: FutureWarning: The frame.append method is deprecated and will be removed from pandas in a future version. Use pandas.concat instead.\n",
      "  df = df.append(data, ignore_index=True)\n"
     ]
    },
    {
     "name": "stdout",
     "output_type": "stream",
     "text": [
      "{'fecha': '20220621', 'texto': 'qué hará elon musk ahora que mark cuban es el rico más querido y popular', 'usuario': 'striker 1994'}\n"
     ]
    },
    {
     "name": "stderr",
     "output_type": "stream",
     "text": [
      "C:\\Users\\matia\\AppData\\Local\\Temp\\ipykernel_13540\\3099373608.py:32: FutureWarning: The frame.append method is deprecated and will be removed from pandas in a future version. Use pandas.concat instead.\n",
      "  df = df.append(data, ignore_index=True)\n"
     ]
    },
    {
     "name": "stdout",
     "output_type": "stream",
     "text": [
      "{'fecha': '20220621', 'texto': 'twitter fue comprado por elon musk y ahora cambiarán las políticas de la empresa de ahora en adelante ellos tienen acceso a tu galería si quieres evitar esto copia y pega este mensaje y reenvíalo a 10 amigos para que no entres en la lista negra no lo autorizo sr musk', 'usuario': 'swdiep'}\n"
     ]
    },
    {
     "name": "stderr",
     "output_type": "stream",
     "text": [
      "C:\\Users\\matia\\AppData\\Local\\Temp\\ipykernel_13540\\3099373608.py:32: FutureWarning: The frame.append method is deprecated and will be removed from pandas in a future version. Use pandas.concat instead.\n",
      "  df = df.append(data, ignore_index=True)\n"
     ]
    },
    {
     "name": "stdout",
     "output_type": "stream",
     "text": [
      "{'fecha': '20220621', 'texto': 'twitter fue comprado por elon musk y ahora cambiarán las políticas de la empresa de ahora en adelante ellos tienen acceso a tu galería si quieres evitar esto copia y pega este mensaje y reenvíalo a 10 amigos para que no entres en la lista negra no lo autorizo sr musk', 'usuario': 'heavysuntz'}\n"
     ]
    },
    {
     "name": "stderr",
     "output_type": "stream",
     "text": [
      "C:\\Users\\matia\\AppData\\Local\\Temp\\ipykernel_13540\\3099373608.py:32: FutureWarning: The frame.append method is deprecated and will be removed from pandas in a future version. Use pandas.concat instead.\n",
      "  df = df.append(data, ignore_index=True)\n"
     ]
    },
    {
     "name": "stdout",
     "output_type": "stream",
     "text": [
      "{'fecha': '20220621', 'texto': 'twitter fue comprado por elon musk y ahora cambiarán las políticas de la empresa de ahora en adelante ellos tienen acceso a tu galería si quieres evitar esto copia y pega este mensaje y reenvíalo a 10 amigos para que no entres en la lista negra no lo autorizo sr musk', 'usuario': 'chaesposaa'}\n"
     ]
    },
    {
     "name": "stderr",
     "output_type": "stream",
     "text": [
      "C:\\Users\\matia\\AppData\\Local\\Temp\\ipykernel_13540\\3099373608.py:32: FutureWarning: The frame.append method is deprecated and will be removed from pandas in a future version. Use pandas.concat instead.\n",
      "  df = df.append(data, ignore_index=True)\n"
     ]
    },
    {
     "name": "stdout",
     "output_type": "stream",
     "text": [
      "{'fecha': '20220621', 'texto': 'lo que debes saber sobre el esquema ponzi motivo de la demanda a elon musk', 'usuario': 'vivonoticiasof'}\n"
     ]
    },
    {
     "name": "stderr",
     "output_type": "stream",
     "text": [
      "C:\\Users\\matia\\AppData\\Local\\Temp\\ipykernel_13540\\3099373608.py:32: FutureWarning: The frame.append method is deprecated and will be removed from pandas in a future version. Use pandas.concat instead.\n",
      "  df = df.append(data, ignore_index=True)\n"
     ]
    },
    {
     "name": "stdout",
     "output_type": "stream",
     "text": [
      "{'fecha': '20220621', 'texto': 'empleados de spacex fueron despedidos', 'usuario': 'visiontimesesp'}\n"
     ]
    },
    {
     "name": "stderr",
     "output_type": "stream",
     "text": [
      "C:\\Users\\matia\\AppData\\Local\\Temp\\ipykernel_13540\\3099373608.py:32: FutureWarning: The frame.append method is deprecated and will be removed from pandas in a future version. Use pandas.concat instead.\n",
      "  df = df.append(data, ignore_index=True)\n"
     ]
    },
    {
     "name": "stdout",
     "output_type": "stream",
     "text": [
      "{'fecha': '20220620', 'texto': 'twitter fue comprado por elon musk y ahora cambiarán las políticas de la empresa de ahora en adelante ellos tienen acceso a tu galería si quieres evitar esto copia y pega este mensaje y reenvíalo a 10 amigos para que no entres en la lista negra no lo autorizo sr musk', 'usuario': 'chaesposaa'}\n"
     ]
    },
    {
     "name": "stderr",
     "output_type": "stream",
     "text": [
      "C:\\Users\\matia\\AppData\\Local\\Temp\\ipykernel_13540\\3099373608.py:32: FutureWarning: The frame.append method is deprecated and will be removed from pandas in a future version. Use pandas.concat instead.\n",
      "  df = df.append(data, ignore_index=True)\n"
     ]
    },
    {
     "name": "stdout",
     "output_type": "stream",
     "text": [
      "{'fecha': '20220620', 'texto': 'elon musk reitera su apoyo a dogecoin después de enfrentar una demanda criptográfica de usd 258 000 000 000 vía', 'usuario': 'm0nedavenezuela'}\n"
     ]
    },
    {
     "name": "stderr",
     "output_type": "stream",
     "text": [
      "C:\\Users\\matia\\AppData\\Local\\Temp\\ipykernel_13540\\3099373608.py:32: FutureWarning: The frame.append method is deprecated and will be removed from pandas in a future version. Use pandas.concat instead.\n",
      "  df = df.append(data, ignore_index=True)\n"
     ]
    },
    {
     "name": "stdout",
     "output_type": "stream",
     "text": [
      "{'fecha': '20220620', 'texto': 'twitter fue comprado por elon musk y ahora cambiarán las políticas de la empresa de ahora en adelante ellos tienen acceso a tu galería si quieres evitar esto copia y pega este mensaje y reenvíalo a 10 amigos para que no entres en la lista negra no lo autorizo sr musk', 'usuario': 'chaesposaa'}\n"
     ]
    },
    {
     "name": "stderr",
     "output_type": "stream",
     "text": [
      "C:\\Users\\matia\\AppData\\Local\\Temp\\ipykernel_13540\\3099373608.py:32: FutureWarning: The frame.append method is deprecated and will be removed from pandas in a future version. Use pandas.concat instead.\n",
      "  df = df.append(data, ignore_index=True)\n"
     ]
    },
    {
     "name": "stdout",
     "output_type": "stream",
     "text": [
      "{'fecha': '20220620', 'texto': 'twitter fue comprado por elon musk y ahora cambiarán las políticas de la empresa de ahora en adelante ellos tienen acceso a tu galería si quieres evitar esto copia y pega este mensaje y reenvíalo a 10 amigos para que no entres en la lista negra no lo autorizo sr musk', 'usuario': 'fusbolito'}\n"
     ]
    },
    {
     "name": "stderr",
     "output_type": "stream",
     "text": [
      "C:\\Users\\matia\\AppData\\Local\\Temp\\ipykernel_13540\\3099373608.py:32: FutureWarning: The frame.append method is deprecated and will be removed from pandas in a future version. Use pandas.concat instead.\n",
      "  df = df.append(data, ignore_index=True)\n"
     ]
    },
    {
     "name": "stdout",
     "output_type": "stream",
     "text": [
      "{'fecha': '20220620', 'texto': 'twitter fue comprado por elon musk y ahora cambiarán las políticas de la empresa de ahora en adelante ellos tienen acceso a tu galería si quieres evitar esto copia y pega este mensaje y reenvíalo a 10 amigos para que no entres en la lista negra no lo autorizo sr musk', 'usuario': 'chaesposaa'}\n"
     ]
    },
    {
     "name": "stderr",
     "output_type": "stream",
     "text": [
      "C:\\Users\\matia\\AppData\\Local\\Temp\\ipykernel_13540\\3099373608.py:32: FutureWarning: The frame.append method is deprecated and will be removed from pandas in a future version. Use pandas.concat instead.\n",
      "  df = df.append(data, ignore_index=True)\n"
     ]
    },
    {
     "name": "stdout",
     "output_type": "stream",
     "text": [
      "{'fecha': '20220620', 'texto': 'twitter fue comprado por elon musk y ahora cambiarán las políticas de la empresa de ahora en adelante ellos tienen acceso a tu galería si quieres evitar esto copia y pega este mensaje y reenvíalo a 10 amigos para que no entres en la lista negra no lo autorizo sr musk', 'usuario': 'chaesposaa'}\n"
     ]
    },
    {
     "name": "stderr",
     "output_type": "stream",
     "text": [
      "C:\\Users\\matia\\AppData\\Local\\Temp\\ipykernel_13540\\3099373608.py:32: FutureWarning: The frame.append method is deprecated and will be removed from pandas in a future version. Use pandas.concat instead.\n",
      "  df = df.append(data, ignore_index=True)\n"
     ]
    },
    {
     "name": "stdout",
     "output_type": "stream",
     "text": [
      "{'fecha': '20220620', 'texto': 'twitter fue comprado por elon musk y ahora cambiarán las políticas de la empresa de ahora en adelante ellos tienen acceso a tu galería si quieres evitar esto copia y pega este mensaje y reenvíalo a 10 amigos para que no entres en la lista negra no lo autorizo sr musk', 'usuario': 'chaesposaa'}\n"
     ]
    },
    {
     "name": "stderr",
     "output_type": "stream",
     "text": [
      "C:\\Users\\matia\\AppData\\Local\\Temp\\ipykernel_13540\\3099373608.py:32: FutureWarning: The frame.append method is deprecated and will be removed from pandas in a future version. Use pandas.concat instead.\n",
      "  df = df.append(data, ignore_index=True)\n"
     ]
    },
    {
     "name": "stdout",
     "output_type": "stream",
     "text": [
      "{'fecha': '20220620', 'texto': 'twitter fue comprado por elon musk y ahora cambiarán las políticas de la empresa de ahora en adelante ellos tienen acceso a tu galería si quieres evitar esto copia y pega este mensaje y reenvíalo a 10 amigos para que no entres en la lista negra no lo autorizo sr musk', 'usuario': 'chaesposaa'}\n"
     ]
    },
    {
     "name": "stderr",
     "output_type": "stream",
     "text": [
      "C:\\Users\\matia\\AppData\\Local\\Temp\\ipykernel_13540\\3099373608.py:32: FutureWarning: The frame.append method is deprecated and will be removed from pandas in a future version. Use pandas.concat instead.\n",
      "  df = df.append(data, ignore_index=True)\n"
     ]
    },
    {
     "name": "stdout",
     "output_type": "stream",
     "text": [
      "{'fecha': '20220620', 'texto': 'twitter fue comprado por elon musk y ahora cambiarán las políticas de la empresa de ahora en adelante ellos tienen acceso a tu galería si quieres evitar esto copia y pega este mensaje y reenvíalo a 10 amigos para que no entres en la lista negra no lo autorizo sr musk', 'usuario': 'chaesposaa'}\n"
     ]
    },
    {
     "name": "stderr",
     "output_type": "stream",
     "text": [
      "C:\\Users\\matia\\AppData\\Local\\Temp\\ipykernel_13540\\3099373608.py:32: FutureWarning: The frame.append method is deprecated and will be removed from pandas in a future version. Use pandas.concat instead.\n",
      "  df = df.append(data, ignore_index=True)\n"
     ]
    },
    {
     "name": "stdout",
     "output_type": "stream",
     "text": [
      "{'fecha': '20220620', 'texto': 'jajaja amo que gaga y elon musk jajajajajaja', 'usuario': 'iviviolence'}\n"
     ]
    },
    {
     "name": "stderr",
     "output_type": "stream",
     "text": [
      "C:\\Users\\matia\\AppData\\Local\\Temp\\ipykernel_13540\\3099373608.py:32: FutureWarning: The frame.append method is deprecated and will be removed from pandas in a future version. Use pandas.concat instead.\n",
      "  df = df.append(data, ignore_index=True)\n"
     ]
    },
    {
     "name": "stdout",
     "output_type": "stream",
     "text": [
      "{'fecha': '20220620', 'texto': 'twitter fue comprado por elon musk y ahora cambiarán las políticas de la empresa de ahora en adelante ellos tienen acceso a tu galería si quieres evitar esto copia y pega este mensaje y reenvíalo a 10 amigos para que no entres en la lista negra no lo autorizo sr musk', 'usuario': 'chaesposaa'}\n"
     ]
    },
    {
     "name": "stderr",
     "output_type": "stream",
     "text": [
      "C:\\Users\\matia\\AppData\\Local\\Temp\\ipykernel_13540\\3099373608.py:32: FutureWarning: The frame.append method is deprecated and will be removed from pandas in a future version. Use pandas.concat instead.\n",
      "  df = df.append(data, ignore_index=True)\n"
     ]
    },
    {
     "name": "stdout",
     "output_type": "stream",
     "text": [
      "{'fecha': '20220620', 'texto': 'elon musk sigue comprando dogecoin a pesar del colapso su precio sube un 4', 'usuario': 'merca20'}\n"
     ]
    }
   ],
   "source": [
    "\n",
    "n=100\n",
    "url = 'https://rutbmzlxuu8vw3w-db20220601185600.adb.sa-saopaulo-1.oraclecloudapps.com/ords/pln/pln/registrar'\n",
    "index = 0\n",
    "df = pd.DataFrame()\n",
    "tweets = api.search_tweets(\"Elon Musk OR SpaceX  OR Elon Mosk OR Starlink OR elon musk OR Tesla -filter:retweets\", lang=\"es\", count=n,tweet_mode=\"extended\")\n",
    "for tweet in tweets: \n",
    "    #print(tweet.created_at,'|', tweet.author.screen_name,'|', tweet.text,'|',tweet.author.location,'|')\n",
    "    \n",
    "    fecha = cleanfecha(tweet.created_at)\n",
    "    \n",
    "    txtTweet = limpiar_token(emoticones(api.get_status(id=tweet.id, tweet_mode='extended').full_text))\n",
    "    txtTweet = txtTweet.strip()\n",
    "    \n",
    "    author = limpiar_token(emoticones(tweet.author.screen_name))\n",
    "    author = author.strip()\n",
    "    \n",
    "    #authornick = (limpiar_token(emoticones(tweet.author.name)))\n",
    "        \n",
    "    data = {'fecha':fecha,'texto':txtTweet,'usuario':author}\n",
    "    x = requests.post(url,json=data)\n",
    "\n",
    "    if x.text=='200\\n':\n",
    "        rta='🟢'\n",
    "    elif x.text=='400\\n':\n",
    "        rta='🟠'\n",
    "    else:\n",
    "        rta='🔴'\n",
    "\n",
    "    #print(index,rta,x.text,data)\n",
    "    print(data)\n",
    "    index += 1\n",
    "    df = df.append(data, ignore_index=True)\n"
   ]
  },
  {
   "cell_type": "code",
   "execution_count": null,
   "id": "2adaaa68",
   "metadata": {},
   "outputs": [],
   "source": [
    "df"
   ]
  },
  {
   "cell_type": "code",
   "execution_count": null,
   "id": "5f5ca5bb",
   "metadata": {},
   "outputs": [],
   "source": []
  },
  {
   "cell_type": "code",
   "execution_count": 7,
   "id": "d9c227ab",
   "metadata": {},
   "outputs": [],
   "source": [
    "df.to_csv('df.csv',index=False)"
   ]
  },
  {
   "cell_type": "code",
   "execution_count": 8,
   "id": "0940adce",
   "metadata": {},
   "outputs": [
    {
     "data": {
      "text/html": [
       "<div>\n",
       "<style scoped>\n",
       "    .dataframe tbody tr th:only-of-type {\n",
       "        vertical-align: middle;\n",
       "    }\n",
       "\n",
       "    .dataframe tbody tr th {\n",
       "        vertical-align: top;\n",
       "    }\n",
       "\n",
       "    .dataframe thead th {\n",
       "        text-align: right;\n",
       "    }\n",
       "</style>\n",
       "<table border=\"1\" class=\"dataframe\">\n",
       "  <thead>\n",
       "    <tr style=\"text-align: right;\">\n",
       "      <th></th>\n",
       "      <th>fecha</th>\n",
       "      <th>texto</th>\n",
       "      <th>usuario</th>\n",
       "    </tr>\n",
       "  </thead>\n",
       "  <tbody>\n",
       "    <tr>\n",
       "      <th>0</th>\n",
       "      <td>20220616</td>\n",
       "      <td>hubiera sido bueno hablar de infraestructura c...</td>\n",
       "      <td>crash over run</td>\n",
       "    </tr>\n",
       "    <tr>\n",
       "      <th>1</th>\n",
       "      <td>20220611</td>\n",
       "      <td>elon musk compra twitter por 44 000 millones d...</td>\n",
       "      <td>designseo cl</td>\n",
       "    </tr>\n",
       "  </tbody>\n",
       "</table>\n",
       "</div>"
      ],
      "text/plain": [
       "      fecha                                              texto         usuario\n",
       "0  20220616  hubiera sido bueno hablar de infraestructura c...  crash over run\n",
       "1  20220611  elon musk compra twitter por 44 000 millones d...    designseo cl"
      ]
     },
     "execution_count": 8,
     "metadata": {},
     "output_type": "execute_result"
    }
   ],
   "source": [
    "data = pd.read_csv('df.csv')\n",
    "data"
   ]
  },
  {
   "cell_type": "code",
   "execution_count": 13,
   "id": "9f936002",
   "metadata": {},
   "outputs": [
    {
     "name": "stdout",
     "output_type": "stream",
     "text": [
      "{'fecha': '20220821', 'texto': 'la fanta de limón para los cubatas', 'usuario': 'miiriamcaano'}\n"
     ]
    },
    {
     "name": "stderr",
     "output_type": "stream",
     "text": [
      "C:\\Users\\matia\\AppData\\Local\\Temp\\ipykernel_4992\\1443620213.py:25: FutureWarning: The frame.append method is deprecated and will be removed from pandas in a future version. Use pandas.concat instead.\n",
      "  df = df.append(data, ignore_index=True)\n"
     ]
    },
    {
     "name": "stdout",
     "output_type": "stream",
     "text": [
      "{'fecha': '20220821', 'texto': 'que la camarera te mire con cara de asco por pedirle una botella de agua pero no bezoya al igual que se elige entre fanta de limón o naranja puedo elegir que agua quiero', 'usuario': 'paulaguidottic'}\n"
     ]
    },
    {
     "name": "stderr",
     "output_type": "stream",
     "text": [
      "C:\\Users\\matia\\AppData\\Local\\Temp\\ipykernel_4992\\1443620213.py:25: FutureWarning: The frame.append method is deprecated and will be removed from pandas in a future version. Use pandas.concat instead.\n",
      "  df = df.append(data, ignore_index=True)\n"
     ]
    },
    {
     "name": "stdout",
     "output_type": "stream",
     "text": [
      "{'fecha': '20220821', 'texto': 'ya pero comiendo pues se me colaron era don simon de esos rebajado con fanta limón', 'usuario': 'vtevillalba'}\n"
     ]
    },
    {
     "name": "stderr",
     "output_type": "stream",
     "text": [
      "C:\\Users\\matia\\AppData\\Local\\Temp\\ipykernel_4992\\1443620213.py:25: FutureWarning: The frame.append method is deprecated and will be removed from pandas in a future version. Use pandas.concat instead.\n",
      "  df = df.append(data, ignore_index=True)\n"
     ]
    },
    {
     "name": "stdout",
     "output_type": "stream",
     "text": [
      "{'fecha': '20220821', 'texto': 'haber yo le llamo cubata a todo sbs el q mas me pego fue el puerto de indias con fanta de limon que madre pero el roncola esta bueno y sube poco soo', 'usuario': 'falling in lou'}\n"
     ]
    },
    {
     "name": "stderr",
     "output_type": "stream",
     "text": [
      "C:\\Users\\matia\\AppData\\Local\\Temp\\ipykernel_4992\\1443620213.py:25: FutureWarning: The frame.append method is deprecated and will be removed from pandas in a future version. Use pandas.concat instead.\n",
      "  df = df.append(data, ignore_index=True)\n"
     ]
    },
    {
     "name": "stdout",
     "output_type": "stream",
     "text": [
      "{'fecha': '20220821', 'texto': 'con fanta de limon si no es mucha molestia...', 'usuario': 'vandeverdeyazul'}\n"
     ]
    },
    {
     "name": "stderr",
     "output_type": "stream",
     "text": [
      "C:\\Users\\matia\\AppData\\Local\\Temp\\ipykernel_4992\\1443620213.py:25: FutureWarning: The frame.append method is deprecated and will be removed from pandas in a future version. Use pandas.concat instead.\n",
      "  df = df.append(data, ignore_index=True)\n"
     ]
    },
    {
     "name": "stdout",
     "output_type": "stream",
     "text": [
      "{'fecha': '20220821', 'texto': 'tu sbs lo bueno qe esta con fanta limón', 'usuario': 'yaracanno'}\n"
     ]
    },
    {
     "name": "stderr",
     "output_type": "stream",
     "text": [
      "C:\\Users\\matia\\AppData\\Local\\Temp\\ipykernel_4992\\1443620213.py:25: FutureWarning: The frame.append method is deprecated and will be removed from pandas in a future version. Use pandas.concat instead.\n",
      "  df = df.append(data, ignore_index=True)\n"
     ]
    },
    {
     "name": "stdout",
     "output_type": "stream",
     "text": [
      "{'fecha': '20220821', 'texto': 'ya te dije que no te rentaba una botella de 1 litro de fanta de limón', 'usuario': 'diieez'}\n"
     ]
    },
    {
     "name": "stderr",
     "output_type": "stream",
     "text": [
      "C:\\Users\\matia\\AppData\\Local\\Temp\\ipykernel_4992\\1443620213.py:25: FutureWarning: The frame.append method is deprecated and will be removed from pandas in a future version. Use pandas.concat instead.\n",
      "  df = df.append(data, ignore_index=True)\n"
     ]
    },
    {
     "name": "stdout",
     "output_type": "stream",
     "text": [
      "{'fecha': '20220821', 'texto': 'fanta limón gt gt gt gt naranja jamón gt gt gt gt jamón dulce nocilla gt gt gt gt nutella colacao gt gt gt gt nesquik y si no me intenten hacer cambiar de opinión', 'usuario': 'twfishyy'}\n"
     ]
    },
    {
     "name": "stderr",
     "output_type": "stream",
     "text": [
      "C:\\Users\\matia\\AppData\\Local\\Temp\\ipykernel_4992\\1443620213.py:25: FutureWarning: The frame.append method is deprecated and will be removed from pandas in a future version. Use pandas.concat instead.\n",
      "  df = df.append(data, ignore_index=True)\n"
     ]
    },
    {
     "name": "stdout",
     "output_type": "stream",
     "text": [
      "{'fecha': '20220821', 'texto': 'es importante hidratarse no dejaría de beber por lo menos gaseosa o fanta limón', 'usuario': 'javielino98'}\n"
     ]
    },
    {
     "name": "stderr",
     "output_type": "stream",
     "text": [
      "C:\\Users\\matia\\AppData\\Local\\Temp\\ipykernel_4992\\1443620213.py:25: FutureWarning: The frame.append method is deprecated and will be removed from pandas in a future version. Use pandas.concat instead.\n",
      "  df = df.append(data, ignore_index=True)\n"
     ]
    },
    {
     "name": "stdout",
     "output_type": "stream",
     "text": [
      "{'fecha': '20220821', 'texto': 'puerto de indias con fanta de limón gt gt gt gt', 'usuario': 'ciiauu'}\n"
     ]
    },
    {
     "name": "stderr",
     "output_type": "stream",
     "text": [
      "C:\\Users\\matia\\AppData\\Local\\Temp\\ipykernel_4992\\1443620213.py:25: FutureWarning: The frame.append method is deprecated and will be removed from pandas in a future version. Use pandas.concat instead.\n",
      "  df = df.append(data, ignore_index=True)\n"
     ]
    },
    {
     "name": "stdout",
     "output_type": "stream",
     "text": [
      "{'fecha': '20220821', 'texto': 'a los garitos que ponen schweppes limón en vez de fanta de limón os lo debería de cerrar sanidad hijos de puta', 'usuario': 'edusanchezdj'}\n"
     ]
    },
    {
     "name": "stderr",
     "output_type": "stream",
     "text": [
      "C:\\Users\\matia\\AppData\\Local\\Temp\\ipykernel_4992\\1443620213.py:25: FutureWarning: The frame.append method is deprecated and will be removed from pandas in a future version. Use pandas.concat instead.\n",
      "  df = df.append(data, ignore_index=True)\n"
     ]
    },
    {
     "name": "stdout",
     "output_type": "stream",
     "text": [
      "{'fecha': '20220821', 'texto': 'no prefiero fanta de limón', 'usuario': 'josej2r'}\n"
     ]
    },
    {
     "name": "stderr",
     "output_type": "stream",
     "text": [
      "C:\\Users\\matia\\AppData\\Local\\Temp\\ipykernel_4992\\1443620213.py:25: FutureWarning: The frame.append method is deprecated and will be removed from pandas in a future version. Use pandas.concat instead.\n",
      "  df = df.append(data, ignore_index=True)\n"
     ]
    },
    {
     "name": "stdout",
     "output_type": "stream",
     "text": [
      "{'fecha': '20220821', 'texto': 'pues fanta de limón por favor y buenos días', 'usuario': 'jirjilio15'}\n"
     ]
    },
    {
     "name": "stderr",
     "output_type": "stream",
     "text": [
      "C:\\Users\\matia\\AppData\\Local\\Temp\\ipykernel_4992\\1443620213.py:25: FutureWarning: The frame.append method is deprecated and will be removed from pandas in a future version. Use pandas.concat instead.\n",
      "  df = df.append(data, ignore_index=True)\n"
     ]
    },
    {
     "name": "stdout",
     "output_type": "stream",
     "text": [
      "{'fecha': '20220821', 'texto': 'era así mi bebida coca lima teem crush fanta paso de los toros', 'usuario': 'excalibur 7'}\n"
     ]
    },
    {
     "name": "stderr",
     "output_type": "stream",
     "text": [
      "C:\\Users\\matia\\AppData\\Local\\Temp\\ipykernel_4992\\1443620213.py:25: FutureWarning: The frame.append method is deprecated and will be removed from pandas in a future version. Use pandas.concat instead.\n",
      "  df = df.append(data, ignore_index=True)\n"
     ]
    },
    {
     "name": "stdout",
     "output_type": "stream",
     "text": [
      "{'fecha': '20220821', 'texto': 'un puerto de indias con fanta de limon', 'usuario': 'piiilaarrrrr'}\n"
     ]
    },
    {
     "name": "stderr",
     "output_type": "stream",
     "text": [
      "C:\\Users\\matia\\AppData\\Local\\Temp\\ipykernel_4992\\1443620213.py:25: FutureWarning: The frame.append method is deprecated and will be removed from pandas in a future version. Use pandas.concat instead.\n",
      "  df = df.append(data, ignore_index=True)\n"
     ]
    },
    {
     "name": "stdout",
     "output_type": "stream",
     "text": [
      "{'fecha': '20220820', 'texto': 'un puerto de indias con fanta limón', 'usuario': 'valentinachou'}\n"
     ]
    },
    {
     "name": "stderr",
     "output_type": "stream",
     "text": [
      "C:\\Users\\matia\\AppData\\Local\\Temp\\ipykernel_4992\\1443620213.py:25: FutureWarning: The frame.append method is deprecated and will be removed from pandas in a future version. Use pandas.concat instead.\n",
      "  df = df.append(data, ignore_index=True)\n"
     ]
    },
    {
     "name": "stdout",
     "output_type": "stream",
     "text": [
      "{'fecha': '20220820', 'texto': 'la river exótica con fanta de limón pruébalo está', 'usuario': 'paulagg 7'}\n"
     ]
    },
    {
     "name": "stderr",
     "output_type": "stream",
     "text": [
      "C:\\Users\\matia\\AppData\\Local\\Temp\\ipykernel_4992\\1443620213.py:25: FutureWarning: The frame.append method is deprecated and will be removed from pandas in a future version. Use pandas.concat instead.\n",
      "  df = df.append(data, ignore_index=True)\n"
     ]
    },
    {
     "name": "stdout",
     "output_type": "stream",
     "text": [
      "{'fecha': '20220820', 'texto': 'exótica y fanta de limón', 'usuario': 'paulagg 7'}\n"
     ]
    },
    {
     "name": "stderr",
     "output_type": "stream",
     "text": [
      "C:\\Users\\matia\\AppData\\Local\\Temp\\ipykernel_4992\\1443620213.py:25: FutureWarning: The frame.append method is deprecated and will be removed from pandas in a future version. Use pandas.concat instead.\n",
      "  df = df.append(data, ignore_index=True)\n"
     ]
    },
    {
     "name": "stdout",
     "output_type": "stream",
     "text": [
      "{'fecha': '20220820', 'texto': '2 cacaolats fanta limon cerbeza no dam shandy vichy cocacolas agua gaseosa la casera', 'usuario': 'gonsssalito0'}\n"
     ]
    },
    {
     "name": "stderr",
     "output_type": "stream",
     "text": [
      "C:\\Users\\matia\\AppData\\Local\\Temp\\ipykernel_4992\\1443620213.py:25: FutureWarning: The frame.append method is deprecated and will be removed from pandas in a future version. Use pandas.concat instead.\n",
      "  df = df.append(data, ignore_index=True)\n"
     ]
    },
    {
     "name": "stdout",
     "output_type": "stream",
     "text": [
      "{'fecha': '20220820', 'texto': 'ni una botella larios ni una fanta limon en el mercadona es q no te puedo de llegar a creer', 'usuario': 'monti xico'}\n"
     ]
    },
    {
     "name": "stderr",
     "output_type": "stream",
     "text": [
      "C:\\Users\\matia\\AppData\\Local\\Temp\\ipykernel_4992\\1443620213.py:25: FutureWarning: The frame.append method is deprecated and will be removed from pandas in a future version. Use pandas.concat instead.\n",
      "  df = df.append(data, ignore_index=True)\n"
     ]
    },
    {
     "name": "stdout",
     "output_type": "stream",
     "text": [
      "{'fecha': '20220820', 'texto': 'la fanta española puede ser la peor aberración jamas creada por el ser humano me siento mal por los que no han probado los refrescos de naranja y limón de otro paises', 'usuario': 'ale aragoza'}\n"
     ]
    },
    {
     "name": "stderr",
     "output_type": "stream",
     "text": [
      "C:\\Users\\matia\\AppData\\Local\\Temp\\ipykernel_4992\\1443620213.py:25: FutureWarning: The frame.append method is deprecated and will be removed from pandas in a future version. Use pandas.concat instead.\n",
      "  df = df.append(data, ignore_index=True)\n"
     ]
    },
    {
     "name": "stdout",
     "output_type": "stream",
     "text": [
      "{'fecha': '20220820', 'texto': 'fanta de limón de bote', 'usuario': 'black label28'}\n"
     ]
    },
    {
     "name": "stderr",
     "output_type": "stream",
     "text": [
      "C:\\Users\\matia\\AppData\\Local\\Temp\\ipykernel_4992\\1443620213.py:25: FutureWarning: The frame.append method is deprecated and will be removed from pandas in a future version. Use pandas.concat instead.\n",
      "  df = df.append(data, ignore_index=True)\n"
     ]
    },
    {
     "name": "stdout",
     "output_type": "stream",
     "text": [
      "{'fecha': '20220820', 'texto': 'mira composición por 100 ml y calcula para 330 ml', 'usuario': 'rurrialde phd'}\n"
     ]
    },
    {
     "name": "stderr",
     "output_type": "stream",
     "text": [
      "C:\\Users\\matia\\AppData\\Local\\Temp\\ipykernel_4992\\1443620213.py:25: FutureWarning: The frame.append method is deprecated and will be removed from pandas in a future version. Use pandas.concat instead.\n",
      "  df = df.append(data, ignore_index=True)\n"
     ]
    },
    {
     "name": "stdout",
     "output_type": "stream",
     "text": [
      "{'fecha': '20220820', 'texto': 'es que fanta limón gt gt gt fanta naranja', 'usuario': 'salooo'}\n"
     ]
    },
    {
     "name": "stderr",
     "output_type": "stream",
     "text": [
      "C:\\Users\\matia\\AppData\\Local\\Temp\\ipykernel_4992\\1443620213.py:25: FutureWarning: The frame.append method is deprecated and will be removed from pandas in a future version. Use pandas.concat instead.\n",
      "  df = df.append(data, ignore_index=True)\n"
     ]
    },
    {
     "name": "stdout",
     "output_type": "stream",
     "text": [
      "{'fecha': '20220820', 'texto': '¡la fanta de naranja es y la de limón es increíble', 'usuario': 'fanta esp'}\n"
     ]
    },
    {
     "name": "stderr",
     "output_type": "stream",
     "text": [
      "C:\\Users\\matia\\AppData\\Local\\Temp\\ipykernel_4992\\1443620213.py:25: FutureWarning: The frame.append method is deprecated and will be removed from pandas in a future version. Use pandas.concat instead.\n",
      "  df = df.append(data, ignore_index=True)\n"
     ]
    },
    {
     "name": "stdout",
     "output_type": "stream",
     "text": [
      "{'fecha': '20220820', 'texto': 'xro con fanta de limón está más bueno sinsera', 'usuario': 'ijadput4'}\n"
     ]
    },
    {
     "name": "stderr",
     "output_type": "stream",
     "text": [
      "C:\\Users\\matia\\AppData\\Local\\Temp\\ipykernel_4992\\1443620213.py:25: FutureWarning: The frame.append method is deprecated and will be removed from pandas in a future version. Use pandas.concat instead.\n",
      "  df = df.append(data, ignore_index=True)\n"
     ]
    },
    {
     "name": "stdout",
     "output_type": "stream",
     "text": [
      "{'fecha': '20220820', 'texto': 'soy muy fan de la fanta naranja a la limón no tanto', 'usuario': 'inaski103'}\n"
     ]
    },
    {
     "name": "stderr",
     "output_type": "stream",
     "text": [
      "C:\\Users\\matia\\AppData\\Local\\Temp\\ipykernel_4992\\1443620213.py:25: FutureWarning: The frame.append method is deprecated and will be removed from pandas in a future version. Use pandas.concat instead.\n",
      "  df = df.append(data, ignore_index=True)\n"
     ]
    },
    {
     "name": "stdout",
     "output_type": "stream",
     "text": [
      "{'fecha': '20220820', 'texto': 'y de kas limón de toda la vida o fanta o cualquier con ese gusto echo de menos el cucurucho de limón de frigo el antiguo el bueno de verdad', 'usuario': 'marinespacialxs'}\n"
     ]
    },
    {
     "name": "stderr",
     "output_type": "stream",
     "text": [
      "C:\\Users\\matia\\AppData\\Local\\Temp\\ipykernel_4992\\1443620213.py:25: FutureWarning: The frame.append method is deprecated and will be removed from pandas in a future version. Use pandas.concat instead.\n",
      "  df = df.append(data, ignore_index=True)\n"
     ]
    },
    {
     "name": "stdout",
     "output_type": "stream",
     "text": [
      "{'fecha': '20220820', 'texto': 'imagina beberte una fanta de limón y dormir con la conciencia tranquila', 'usuario': 'alonsoatm'}\n"
     ]
    },
    {
     "name": "stderr",
     "output_type": "stream",
     "text": [
      "C:\\Users\\matia\\AppData\\Local\\Temp\\ipykernel_4992\\1443620213.py:25: FutureWarning: The frame.append method is deprecated and will be removed from pandas in a future version. Use pandas.concat instead.\n",
      "  df = df.append(data, ignore_index=True)\n"
     ]
    },
    {
     "name": "stdout",
     "output_type": "stream",
     "text": [
      "{'fecha': '20220820', 'texto': 'ellos no saben ellos no saben q llevo bebiendo vino de carton con fanta de limón todas las fiestas', 'usuario': 'miguelorzas'}\n"
     ]
    },
    {
     "name": "stderr",
     "output_type": "stream",
     "text": [
      "C:\\Users\\matia\\AppData\\Local\\Temp\\ipykernel_4992\\1443620213.py:25: FutureWarning: The frame.append method is deprecated and will be removed from pandas in a future version. Use pandas.concat instead.\n",
      "  df = df.append(data, ignore_index=True)\n"
     ]
    },
    {
     "name": "stdout",
     "output_type": "stream",
     "text": [
      "{'fecha': '20220820', 'texto': 'cómo vas a decir que la fanta limón es mejor que la fanta naranja', 'usuario': '444yuliaa'}\n"
     ]
    },
    {
     "name": "stderr",
     "output_type": "stream",
     "text": [
      "C:\\Users\\matia\\AppData\\Local\\Temp\\ipykernel_4992\\1443620213.py:25: FutureWarning: The frame.append method is deprecated and will be removed from pandas in a future version. Use pandas.concat instead.\n",
      "  df = df.append(data, ignore_index=True)\n"
     ]
    },
    {
     "name": "stdout",
     "output_type": "stream",
     "text": [
      "{'fecha': '20220820', 'texto': 'lo siento jorge me gusta la pizza con piña y la fanta de limón', 'usuario': 'itziarmartiin'}\n"
     ]
    },
    {
     "name": "stderr",
     "output_type": "stream",
     "text": [
      "C:\\Users\\matia\\AppData\\Local\\Temp\\ipykernel_4992\\1443620213.py:25: FutureWarning: The frame.append method is deprecated and will be removed from pandas in a future version. Use pandas.concat instead.\n",
      "  df = df.append(data, ignore_index=True)\n"
     ]
    },
    {
     "name": "stdout",
     "output_type": "stream",
     "text": [
      "{'fecha': '20220820', 'texto': 'ble venga cuesta 4 y con fanta de limón mu bueno', 'usuario': 'ijadput4'}\n"
     ]
    },
    {
     "name": "stderr",
     "output_type": "stream",
     "text": [
      "C:\\Users\\matia\\AppData\\Local\\Temp\\ipykernel_4992\\1443620213.py:25: FutureWarning: The frame.append method is deprecated and will be removed from pandas in a future version. Use pandas.concat instead.\n",
      "  df = df.append(data, ignore_index=True)\n"
     ]
    },
    {
     "name": "stdout",
     "output_type": "stream",
     "text": [
      "{'fecha': '20220820', 'texto': 'fanta limón inforna que desconocía la gravedad del asunto y la posición social del acusado anuncia que se querellará contea el acusado si demuestra un mal uso y abuso de su producto', 'usuario': 'nemorino150'}\n"
     ]
    },
    {
     "name": "stderr",
     "output_type": "stream",
     "text": [
      "C:\\Users\\matia\\AppData\\Local\\Temp\\ipykernel_4992\\1443620213.py:25: FutureWarning: The frame.append method is deprecated and will be removed from pandas in a future version. Use pandas.concat instead.\n",
      "  df = df.append(data, ignore_index=True)\n"
     ]
    },
    {
     "name": "stdout",
     "output_type": "stream",
     "text": [
      "{'fecha': '20220820', 'texto': 'ufufuf y la fanta de limón', 'usuario': 'luciiaabrunette'}\n"
     ]
    },
    {
     "name": "stderr",
     "output_type": "stream",
     "text": [
      "C:\\Users\\matia\\AppData\\Local\\Temp\\ipykernel_4992\\1443620213.py:25: FutureWarning: The frame.append method is deprecated and will be removed from pandas in a future version. Use pandas.concat instead.\n",
      "  df = df.append(data, ignore_index=True)\n"
     ]
    },
    {
     "name": "stdout",
     "output_type": "stream",
     "text": [
      "{'fecha': '20220820', 'texto': 'la botella que he conseguido con el limón encima me ha regalado el lote entero me ha dado la fanta de limón una bolsa de hielo y vasos', 'usuario': 'albaa bd'}\n"
     ]
    },
    {
     "name": "stderr",
     "output_type": "stream",
     "text": [
      "C:\\Users\\matia\\AppData\\Local\\Temp\\ipykernel_4992\\1443620213.py:25: FutureWarning: The frame.append method is deprecated and will be removed from pandas in a future version. Use pandas.concat instead.\n",
      "  df = df.append(data, ignore_index=True)\n"
     ]
    },
    {
     "name": "stdout",
     "output_type": "stream",
     "text": [
      "{'fecha': '20220819', 'texto': 'devuelvan la fanta de limón primer aviso', 'usuario': 'expanding flan'}\n"
     ]
    },
    {
     "name": "stderr",
     "output_type": "stream",
     "text": [
      "C:\\Users\\matia\\AppData\\Local\\Temp\\ipykernel_4992\\1443620213.py:25: FutureWarning: The frame.append method is deprecated and will be removed from pandas in a future version. Use pandas.concat instead.\n",
      "  df = df.append(data, ignore_index=True)\n"
     ]
    },
    {
     "name": "stdout",
     "output_type": "stream",
     "text": [
      "{'fecha': '20220819', 'texto': 'porque casi todo lo que se mezcle con fanta de limón está bueno', 'usuario': 'paula08872174'}\n"
     ]
    },
    {
     "name": "stderr",
     "output_type": "stream",
     "text": [
      "C:\\Users\\matia\\AppData\\Local\\Temp\\ipykernel_4992\\1443620213.py:25: FutureWarning: The frame.append method is deprecated and will be removed from pandas in a future version. Use pandas.concat instead.\n",
      "  df = df.append(data, ignore_index=True)\n"
     ]
    },
    {
     "name": "stdout",
     "output_type": "stream",
     "text": [
      "{'fecha': '20220819', 'texto': 'ya probaron la fanta limón qué piensan va con vino o vodkita', 'usuario': 'pablog11'}\n"
     ]
    },
    {
     "name": "stderr",
     "output_type": "stream",
     "text": [
      "C:\\Users\\matia\\AppData\\Local\\Temp\\ipykernel_4992\\1443620213.py:25: FutureWarning: The frame.append method is deprecated and will be removed from pandas in a future version. Use pandas.concat instead.\n",
      "  df = df.append(data, ignore_index=True)\n"
     ]
    },
    {
     "name": "stdout",
     "output_type": "stream",
     "text": [
      "{'fecha': '20220819', 'texto': 'volvió la fanta limón y la moda de los 2000 s seguros que estamos en 2022', 'usuario': 'usandivaraslu'}\n"
     ]
    },
    {
     "name": "stderr",
     "output_type": "stream",
     "text": [
      "C:\\Users\\matia\\AppData\\Local\\Temp\\ipykernel_4992\\1443620213.py:25: FutureWarning: The frame.append method is deprecated and will be removed from pandas in a future version. Use pandas.concat instead.\n",
      "  df = df.append(data, ignore_index=True)\n"
     ]
    },
    {
     "name": "stdout",
     "output_type": "stream",
     "text": [
      "{'fecha': '20220819', 'texto': '¿qué acaso probaste el colacao o probaste la fanta de limón', 'usuario': 'yus vic'}\n"
     ]
    },
    {
     "name": "stderr",
     "output_type": "stream",
     "text": [
      "C:\\Users\\matia\\AppData\\Local\\Temp\\ipykernel_4992\\1443620213.py:25: FutureWarning: The frame.append method is deprecated and will be removed from pandas in a future version. Use pandas.concat instead.\n",
      "  df = df.append(data, ignore_index=True)\n"
     ]
    },
    {
     "name": "stdout",
     "output_type": "stream",
     "text": [
      "{'fecha': '20220819', 'texto': 'la mejor es la fanta de limón no hay discusión', 'usuario': 'reebecaa 05'}\n"
     ]
    },
    {
     "name": "stderr",
     "output_type": "stream",
     "text": [
      "C:\\Users\\matia\\AppData\\Local\\Temp\\ipykernel_4992\\1443620213.py:25: FutureWarning: The frame.append method is deprecated and will be removed from pandas in a future version. Use pandas.concat instead.\n",
      "  df = df.append(data, ignore_index=True)\n"
     ]
    },
    {
     "name": "stdout",
     "output_type": "stream",
     "text": [
      "{'fecha': '20220819', 'texto': 'lentejas gazpacho fanta limón tinto', 'usuario': 'kyyd20f'}\n"
     ]
    },
    {
     "name": "stderr",
     "output_type": "stream",
     "text": [
      "C:\\Users\\matia\\AppData\\Local\\Temp\\ipykernel_4992\\1443620213.py:25: FutureWarning: The frame.append method is deprecated and will be removed from pandas in a future version. Use pandas.concat instead.\n",
      "  df = df.append(data, ignore_index=True)\n"
     ]
    },
    {
     "name": "stdout",
     "output_type": "stream",
     "text": [
      "{'fecha': '20220819', 'texto': 'te recomendamos probar el licor de cilantro eva pímez y fanta límón un combinado espectacular si lo pruebas repetirás seguro', 'usuario': 'evapimez1920'}\n"
     ]
    },
    {
     "name": "stderr",
     "output_type": "stream",
     "text": [
      "C:\\Users\\matia\\AppData\\Local\\Temp\\ipykernel_4992\\1443620213.py:25: FutureWarning: The frame.append method is deprecated and will be removed from pandas in a future version. Use pandas.concat instead.\n",
      "  df = df.append(data, ignore_index=True)\n"
     ]
    },
    {
     "name": "stdout",
     "output_type": "stream",
     "text": [
      "{'fecha': '20220819', 'texto': 'tomen fanta de limón y relájense', 'usuario': 'clari ferraro'}\n"
     ]
    },
    {
     "name": "stderr",
     "output_type": "stream",
     "text": [
      "C:\\Users\\matia\\AppData\\Local\\Temp\\ipykernel_4992\\1443620213.py:25: FutureWarning: The frame.append method is deprecated and will be removed from pandas in a future version. Use pandas.concat instead.\n",
      "  df = df.append(data, ignore_index=True)\n"
     ]
    },
    {
     "name": "stdout",
     "output_type": "stream",
     "text": [
      "{'fecha': '20220819', 'texto': 'mucho mejor con fanta de limón', 'usuario': 'anaarmirezz'}\n"
     ]
    },
    {
     "name": "stderr",
     "output_type": "stream",
     "text": [
      "C:\\Users\\matia\\AppData\\Local\\Temp\\ipykernel_4992\\1443620213.py:25: FutureWarning: The frame.append method is deprecated and will be removed from pandas in a future version. Use pandas.concat instead.\n",
      "  df = df.append(data, ignore_index=True)\n"
     ]
    },
    {
     "name": "stdout",
     "output_type": "stream",
     "text": [
      "{'fecha': '20220819', 'texto': 'españa debería exportar las persianas los hielos de cubata y la fanta de limón', 'usuario': 'alfmontilla'}\n"
     ]
    },
    {
     "name": "stderr",
     "output_type": "stream",
     "text": [
      "C:\\Users\\matia\\AppData\\Local\\Temp\\ipykernel_4992\\1443620213.py:25: FutureWarning: The frame.append method is deprecated and will be removed from pandas in a future version. Use pandas.concat instead.\n",
      "  df = df.append(data, ignore_index=True)\n"
     ]
    },
    {
     "name": "stdout",
     "output_type": "stream",
     "text": [
      "{'fecha': '20220819', 'texto': 'muy buenos días por la mañana #lokamia acabo un par de cositas y voy por la fanta de limón un besazo corazón', 'usuario': 'folrat'}\n"
     ]
    },
    {
     "name": "stderr",
     "output_type": "stream",
     "text": [
      "C:\\Users\\matia\\AppData\\Local\\Temp\\ipykernel_4992\\1443620213.py:25: FutureWarning: The frame.append method is deprecated and will be removed from pandas in a future version. Use pandas.concat instead.\n",
      "  df = df.append(data, ignore_index=True)\n"
     ]
    },
    {
     "name": "stdout",
     "output_type": "stream",
     "text": [
      "{'fecha': '20220819', 'texto': 'fanta de limón con vodka', 'usuario': 'yepespp'}\n"
     ]
    },
    {
     "name": "stderr",
     "output_type": "stream",
     "text": [
      "C:\\Users\\matia\\AppData\\Local\\Temp\\ipykernel_4992\\1443620213.py:25: FutureWarning: The frame.append method is deprecated and will be removed from pandas in a future version. Use pandas.concat instead.\n",
      "  df = df.append(data, ignore_index=True)\n"
     ]
    },
    {
     "name": "stdout",
     "output_type": "stream",
     "text": [
      "{'fecha': '20220819', 'texto': 'fanta de limón obvio es la mejor', 'usuario': 'nayaraaa23'}\n"
     ]
    },
    {
     "name": "stderr",
     "output_type": "stream",
     "text": [
      "C:\\Users\\matia\\AppData\\Local\\Temp\\ipykernel_4992\\1443620213.py:25: FutureWarning: The frame.append method is deprecated and will be removed from pandas in a future version. Use pandas.concat instead.\n",
      "  df = df.append(data, ignore_index=True)\n"
     ]
    },
    {
     "name": "stdout",
     "output_type": "stream",
     "text": [
      "{'fecha': '20220819', 'texto': 'fanta d limon siempre', 'usuario': 'lucciia26'}\n"
     ]
    },
    {
     "name": "stderr",
     "output_type": "stream",
     "text": [
      "C:\\Users\\matia\\AppData\\Local\\Temp\\ipykernel_4992\\1443620213.py:25: FutureWarning: The frame.append method is deprecated and will be removed from pandas in a future version. Use pandas.concat instead.\n",
      "  df = df.append(data, ignore_index=True)\n"
     ]
    },
    {
     "ename": "TwitterServerError",
     "evalue": "503 Service Unavailable\n130 - Over capacity",
     "output_type": "error",
     "traceback": [
      "\u001b[1;31m---------------------------------------------------------------------------\u001b[0m",
      "\u001b[1;31mTwitterServerError\u001b[0m                        Traceback (most recent call last)",
      "Input \u001b[1;32mIn [13]\u001b[0m, in \u001b[0;36m<cell line: 6>\u001b[1;34m()\u001b[0m\n\u001b[0;32m      6\u001b[0m \u001b[38;5;28;01mfor\u001b[39;00m tweet \u001b[38;5;129;01min\u001b[39;00m tweets: \n\u001b[0;32m      7\u001b[0m     \u001b[38;5;66;03m#print(tweet.created_at,'|', tweet.author.screen_name,'|', tweet.text,'|',tweet.author.location,'|')\u001b[39;00m\n\u001b[0;32m      9\u001b[0m     fecha \u001b[38;5;241m=\u001b[39m cleanfecha(tweet\u001b[38;5;241m.\u001b[39mcreated_at)\n\u001b[1;32m---> 11\u001b[0m     txtTweet \u001b[38;5;241m=\u001b[39m limpiar_token(emoticones(\u001b[43mapi\u001b[49m\u001b[38;5;241;43m.\u001b[39;49m\u001b[43mget_status\u001b[49m\u001b[43m(\u001b[49m\u001b[38;5;28;43mid\u001b[39;49m\u001b[38;5;241;43m=\u001b[39;49m\u001b[43mtweet\u001b[49m\u001b[38;5;241;43m.\u001b[39;49m\u001b[43mid\u001b[49m\u001b[43m,\u001b[49m\u001b[43m \u001b[49m\u001b[43mtweet_mode\u001b[49m\u001b[38;5;241;43m=\u001b[39;49m\u001b[38;5;124;43m'\u001b[39;49m\u001b[38;5;124;43mextended\u001b[39;49m\u001b[38;5;124;43m'\u001b[39;49m\u001b[43m)\u001b[49m\u001b[38;5;241m.\u001b[39mfull_text))\n\u001b[0;32m     12\u001b[0m     txtTweet \u001b[38;5;241m=\u001b[39m txtTweet\u001b[38;5;241m.\u001b[39mstrip()\n\u001b[0;32m     14\u001b[0m     author \u001b[38;5;241m=\u001b[39m limpiar_token(emoticones(tweet\u001b[38;5;241m.\u001b[39mauthor\u001b[38;5;241m.\u001b[39mscreen_name))\n",
      "File \u001b[1;32m~\\AppData\\Roaming\\Python\\Python38\\site-packages\\tweepy\\api.py:46\u001b[0m, in \u001b[0;36mpayload.<locals>.decorator.<locals>.wrapper\u001b[1;34m(*args, **kwargs)\u001b[0m\n\u001b[0;32m     44\u001b[0m kwargs[\u001b[38;5;124m'\u001b[39m\u001b[38;5;124mpayload_list\u001b[39m\u001b[38;5;124m'\u001b[39m] \u001b[38;5;241m=\u001b[39m payload_list\n\u001b[0;32m     45\u001b[0m kwargs[\u001b[38;5;124m'\u001b[39m\u001b[38;5;124mpayload_type\u001b[39m\u001b[38;5;124m'\u001b[39m] \u001b[38;5;241m=\u001b[39m payload_type\n\u001b[1;32m---> 46\u001b[0m \u001b[38;5;28;01mreturn\u001b[39;00m \u001b[43mmethod\u001b[49m\u001b[43m(\u001b[49m\u001b[38;5;241;43m*\u001b[39;49m\u001b[43margs\u001b[49m\u001b[43m,\u001b[49m\u001b[43m \u001b[49m\u001b[38;5;241;43m*\u001b[39;49m\u001b[38;5;241;43m*\u001b[39;49m\u001b[43mkwargs\u001b[49m\u001b[43m)\u001b[49m\n",
      "File \u001b[1;32m~\\AppData\\Roaming\\Python\\Python38\\site-packages\\tweepy\\api.py:896\u001b[0m, in \u001b[0;36mAPI.get_status\u001b[1;34m(self, id, **kwargs)\u001b[0m\n\u001b[0;32m    863\u001b[0m \u001b[38;5;129m@payload\u001b[39m(\u001b[38;5;124m'\u001b[39m\u001b[38;5;124mstatus\u001b[39m\u001b[38;5;124m'\u001b[39m)\n\u001b[0;32m    864\u001b[0m \u001b[38;5;28;01mdef\u001b[39;00m \u001b[38;5;21mget_status\u001b[39m(\u001b[38;5;28mself\u001b[39m, \u001b[38;5;28mid\u001b[39m, \u001b[38;5;241m*\u001b[39m\u001b[38;5;241m*\u001b[39mkwargs):\n\u001b[0;32m    865\u001b[0m     \u001b[38;5;124;03m\"\"\"get_status(id, *, trim_user, include_my_retweet, include_entities, \\\u001b[39;00m\n\u001b[0;32m    866\u001b[0m \u001b[38;5;124;03m                  include_ext_alt_text, include_card_uri)\u001b[39;00m\n\u001b[0;32m    867\u001b[0m \n\u001b[1;32m   (...)\u001b[0m\n\u001b[0;32m    894\u001b[0m \u001b[38;5;124;03m    https://developer.twitter.com/en/docs/twitter-api/v1/tweets/post-and-engage/api-reference/get-statuses-show-id\u001b[39;00m\n\u001b[0;32m    895\u001b[0m \u001b[38;5;124;03m    \"\"\"\u001b[39;00m\n\u001b[1;32m--> 896\u001b[0m     \u001b[38;5;28;01mreturn\u001b[39;00m \u001b[38;5;28;43mself\u001b[39;49m\u001b[38;5;241;43m.\u001b[39;49m\u001b[43mrequest\u001b[49m\u001b[43m(\u001b[49m\n\u001b[0;32m    897\u001b[0m \u001b[43m        \u001b[49m\u001b[38;5;124;43m'\u001b[39;49m\u001b[38;5;124;43mGET\u001b[39;49m\u001b[38;5;124;43m'\u001b[39;49m\u001b[43m,\u001b[49m\u001b[43m \u001b[49m\u001b[38;5;124;43m'\u001b[39;49m\u001b[38;5;124;43mstatuses/show\u001b[39;49m\u001b[38;5;124;43m'\u001b[39;49m\u001b[43m,\u001b[49m\u001b[43m \u001b[49m\u001b[43mendpoint_parameters\u001b[49m\u001b[38;5;241;43m=\u001b[39;49m\u001b[43m(\u001b[49m\n\u001b[0;32m    898\u001b[0m \u001b[43m            \u001b[49m\u001b[38;5;124;43m'\u001b[39;49m\u001b[38;5;124;43mid\u001b[39;49m\u001b[38;5;124;43m'\u001b[39;49m\u001b[43m,\u001b[49m\u001b[43m \u001b[49m\u001b[38;5;124;43m'\u001b[39;49m\u001b[38;5;124;43mtrim_user\u001b[39;49m\u001b[38;5;124;43m'\u001b[39;49m\u001b[43m,\u001b[49m\u001b[43m \u001b[49m\u001b[38;5;124;43m'\u001b[39;49m\u001b[38;5;124;43minclude_my_retweet\u001b[39;49m\u001b[38;5;124;43m'\u001b[39;49m\u001b[43m,\u001b[49m\u001b[43m \u001b[49m\u001b[38;5;124;43m'\u001b[39;49m\u001b[38;5;124;43minclude_entities\u001b[39;49m\u001b[38;5;124;43m'\u001b[39;49m\u001b[43m,\u001b[49m\n\u001b[0;32m    899\u001b[0m \u001b[43m            \u001b[49m\u001b[38;5;124;43m'\u001b[39;49m\u001b[38;5;124;43minclude_ext_alt_text\u001b[39;49m\u001b[38;5;124;43m'\u001b[39;49m\u001b[43m,\u001b[49m\u001b[43m \u001b[49m\u001b[38;5;124;43m'\u001b[39;49m\u001b[38;5;124;43minclude_card_uri\u001b[39;49m\u001b[38;5;124;43m'\u001b[39;49m\n\u001b[0;32m    900\u001b[0m \u001b[43m        \u001b[49m\u001b[43m)\u001b[49m\u001b[43m,\u001b[49m\u001b[43m \u001b[49m\u001b[38;5;28;43mid\u001b[39;49m\u001b[38;5;241;43m=\u001b[39;49m\u001b[38;5;28;43mid\u001b[39;49m\u001b[43m,\u001b[49m\u001b[43m \u001b[49m\u001b[38;5;241;43m*\u001b[39;49m\u001b[38;5;241;43m*\u001b[39;49m\u001b[43mkwargs\u001b[49m\n\u001b[0;32m    901\u001b[0m \u001b[43m    \u001b[49m\u001b[43m)\u001b[49m\n",
      "File \u001b[1;32m~\\AppData\\Roaming\\Python\\Python38\\site-packages\\tweepy\\api.py:265\u001b[0m, in \u001b[0;36mAPI.request\u001b[1;34m(self, method, endpoint, endpoint_parameters, params, headers, json_payload, parser, payload_list, payload_type, post_data, files, require_auth, return_cursors, upload_api, use_cache, **kwargs)\u001b[0m\n\u001b[0;32m    263\u001b[0m     \u001b[38;5;28;01mraise\u001b[39;00m TooManyRequests(resp)\n\u001b[0;32m    264\u001b[0m \u001b[38;5;28;01mif\u001b[39;00m resp\u001b[38;5;241m.\u001b[39mstatus_code \u001b[38;5;241m>\u001b[39m\u001b[38;5;241m=\u001b[39m \u001b[38;5;241m500\u001b[39m:\n\u001b[1;32m--> 265\u001b[0m     \u001b[38;5;28;01mraise\u001b[39;00m TwitterServerError(resp)\n\u001b[0;32m    266\u001b[0m \u001b[38;5;28;01mif\u001b[39;00m resp\u001b[38;5;241m.\u001b[39mstatus_code \u001b[38;5;129;01mand\u001b[39;00m \u001b[38;5;129;01mnot\u001b[39;00m \u001b[38;5;241m200\u001b[39m \u001b[38;5;241m<\u001b[39m\u001b[38;5;241m=\u001b[39m resp\u001b[38;5;241m.\u001b[39mstatus_code \u001b[38;5;241m<\u001b[39m \u001b[38;5;241m300\u001b[39m:\n\u001b[0;32m    267\u001b[0m     \u001b[38;5;28;01mraise\u001b[39;00m HTTPException(resp)\n",
      "\u001b[1;31mTwitterServerError\u001b[0m: 503 Service Unavailable\n130 - Over capacity"
     ]
    }
   ],
   "source": [
    "n=100\n",
    "url = 'https://rutbmzlxuu8vw3w-db20220601185600.adb.sa-saopaulo-1.oraclecloudapps.com/ords/pln/pln/registrar'\n",
    "index = 0\n",
    "tweets = api.search_tweets(\"Fanta limon -filter:retweets\", lang=\"es\", count=n,tweet_mode=\"extended\")\n",
    "df = pd.DataFrame()\n",
    "for tweet in tweets: \n",
    "    #print(tweet.created_at,'|', tweet.author.screen_name,'|', tweet.text,'|',tweet.author.location,'|')\n",
    "    \n",
    "    fecha = cleanfecha(tweet.created_at)\n",
    "    \n",
    "    txtTweet = limpiar_token(emoticones(api.get_status(id=tweet.id, tweet_mode='extended').full_text))\n",
    "    txtTweet = txtTweet.strip()\n",
    "    \n",
    "    author = limpiar_token(emoticones(tweet.author.screen_name))\n",
    "    author = author.strip()\n",
    "    \n",
    "    #authornick = (limpiar_token(emoticones(tweet.author.name)))\n",
    "        \n",
    "    data = {'fecha':fecha,'texto':txtTweet,'usuario':author}\n",
    "    \n",
    "\n",
    "    #print(index,rta,x.text,data)\n",
    "    print(data)\n",
    "    index += 1\n",
    "    df = df.append(data, ignore_index=True)"
   ]
  },
  {
   "cell_type": "code",
   "execution_count": null,
   "id": "2b366f0b",
   "metadata": {},
   "outputs": [],
   "source": []
  }
 ],
 "metadata": {
  "kernelspec": {
   "display_name": "Python 3 (ipykernel)",
   "language": "python",
   "name": "python3"
  },
  "language_info": {
   "codemirror_mode": {
    "name": "ipython",
    "version": 3
   },
   "file_extension": ".py",
   "mimetype": "text/x-python",
   "name": "python",
   "nbconvert_exporter": "python",
   "pygments_lexer": "ipython3",
   "version": "3.8.12"
  },
  "latex_envs": {
   "LaTeX_envs_menu_present": true,
   "autoclose": false,
   "autocomplete": true,
   "bibliofile": "biblio.bib",
   "cite_by": "apalike",
   "current_citInitial": 1,
   "eqLabelWithNumbers": true,
   "eqNumInitial": 1,
   "hotkeys": {
    "equation": "Ctrl-E",
    "itemize": "Ctrl-I"
   },
   "labels_anchors": false,
   "latex_user_defs": false,
   "report_style_numbering": false,
   "user_envs_cfg": false
  },
  "varInspector": {
   "cols": {
    "lenName": 16,
    "lenType": 16,
    "lenVar": 40
   },
   "kernels_config": {
    "python": {
     "delete_cmd_postfix": "",
     "delete_cmd_prefix": "del ",
     "library": "var_list.py",
     "varRefreshCmd": "print(var_dic_list())"
    },
    "r": {
     "delete_cmd_postfix": ") ",
     "delete_cmd_prefix": "rm(",
     "library": "var_list.r",
     "varRefreshCmd": "cat(var_dic_list()) "
    }
   },
   "types_to_exclude": [
    "module",
    "function",
    "builtin_function_or_method",
    "instance",
    "_Feature"
   ],
   "window_display": false
  }
 },
 "nbformat": 4,
 "nbformat_minor": 5
}
